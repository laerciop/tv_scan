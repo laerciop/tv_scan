{
 "cells": [
  {
   "cell_type": "code",
   "execution_count": 1,
   "id": "08fd1aba",
   "metadata": {},
   "outputs": [],
   "source": [
    "from datetime import datetime\n",
    "\n",
    "from pymongo import MongoClient, InsertOne, UpdateOne\n",
    "import mlflow\n",
    "from omegaconf import OmegaConf\n",
    "\n",
    "\n",
    "\n",
    "import urllib.request\n",
    "import tempfile\n",
    "from gcsfs import GCSFileSystem\n",
    "\n"
   ]
  },
  {
   "cell_type": "code",
   "execution_count": 2,
   "id": "1389a52a",
   "metadata": {},
   "outputs": [],
   "source": [
    "\n",
    "def mongo_client(config_file_path):\n",
    "    \"\"\"Funcion to turn mongo client ON\"\"\"\n",
    "    config = OmegaConf.load(config_file_path)\n",
    "    server_ip = config.main.server_ip\n",
    "    port = config.main.port\n",
    "    if config.main.login:\n",
    "        user = config.main.user\n",
    "        passwd = config.main.passwd\n",
    "        client = MongoClient(f'mongodb://{server_ip}:{port}',\n",
    "                            username=user,\n",
    "                            password=passwd)\n",
    "    else:\n",
    "        client = MongoClient(f'mongodb://{server_ip}:{port}')\n",
    "\n",
    "    return client\n",
    "\n",
    "\n",
    "\n",
    "class FileHandler():\n",
    "    \"\"\"Class to get file and save it to GCP.\"\"\"\n",
    "    def __init__(self, gc_project):\n",
    "        self.file_system = GCSFileSystem(project=gc_project)\n",
    "\n",
    "    def spot_download_helper(self, url, dest_name):\n",
    "        \"\"\"Function to get file and save it to GCP.\"\"\"\n",
    "        dest_file = 'tv_spots_store/'+dest_name\n",
    "        print(f\"FILENAME:  {dest_file}\")\n",
    "        self.file_system.touch(dest_file)\n",
    "        with self.file_system.open(dest_file, mode='wb') as file:\n",
    "            with tempfile.NamedTemporaryFile() as bin_file:\n",
    "                try:\n",
    "                    urllib.request.urlretrieve(url, bin_file.name)\n",
    "                    data = bin_file.read()\n",
    "                    file.write(data)\n",
    "                except Exception as e:\n",
    "                    return str(e)\n",
    "            file_url = file.info()\n",
    "        return (dest_file, file_url)"
   ]
  },
  {
   "cell_type": "code",
   "execution_count": 3,
   "id": "463fd389",
   "metadata": {},
   "outputs": [],
   "source": [
    "# START SERVER IF NEEDED - docker run --name testing-mongo -p 27017:27017 mongo:latest\n",
    "server = mongo_client('conf/mongo-config.yaml')\n",
    "db = server.TV_scan\n"
   ]
  },
  {
   "cell_type": "code",
   "execution_count": 4,
   "id": "2300cc4f",
   "metadata": {},
   "outputs": [
    {
     "name": "stderr",
     "output_type": "stream",
     "text": [
      "2023/02/07 17:10:26 INFO mlflow.projects.docker: === Building docker image register_update:9513e08 ===\n",
      "2023/02/07 17:10:26 INFO mlflow.projects.utils: === Created directory /tmp/tmp30x_b1nr for downloading remote URIs passed to arguments of type 'path' ===\n",
      "2023/02/07 17:10:26 INFO mlflow.projects.backend.local: === Running command 'docker run --rm -v /home/laertio/projects/dev/tv_scan/mlruns:/mlflow/tmp/mlruns -v /home/laertio/projects/dev/tv_scan/mlruns/0/c93f455ed5bb4f78ab145e6fdc003a4f/artifacts:/home/laertio/projects/dev/tv_scan/mlruns/0/c93f455ed5bb4f78ab145e6fdc003a4f/artifacts -v /home/laertio/projects/dev/tv_scan/components/spotreg_update/data_in:/data_in -v /home/laertio/projects/dev/tv_scan/conf:/conf -e MLFLOW_RUN_ID=c93f455ed5bb4f78ab145e6fdc003a4f -e MLFLOW_TRACKING_URI=file:///mlflow/tmp/mlruns -e MLFLOW_EXPERIMENT_ID=0 register_update:9513e08 python run.py tv_scan_test input_sample.xlsx /conf/mongo-config.yaml spots_inventory --wandblogin=ea7d4ed782356f66850586612f115565b6a8a0c3' in run with ID 'c93f455ed5bb4f78ab145e6fdc003a4f' === \n",
      "wandb: W&B API key is configured. Use `wandb login --relogin` to force relogin\n",
      "wandb: Appending key for api.wandb.ai to your netrc file: /root/.netrc\n",
      "wandb: Currently logged in as: digital_report (pgpt_datascience). Use `wandb login --relogin` to force relogin\n",
      "wandb: Tracking run with wandb version 0.13.9\n",
      "wandb: Run data is saved locally in /mlflow/projects/code/wandb/run-20230207_171031-7gnxm3of\n",
      "wandb: Run `wandb offline` to turn off syncing.\n",
      "wandb: Syncing run fresh-dawn-21\n",
      "wandb: ⭐️ View project at https://wandb.ai/pgpt_datascience/tv_scan_test\n",
      "wandb: 🚀 View run at https://wandb.ai/pgpt_datascience/tv_scan_test/runs/7gnxm3of\n",
      "2023-02-07 17:10:36,462 File input_sample.xlsx loaded...\n",
      "2023-02-07 17:10:36,481 TV Scan DB config loaded...\n",
      "2023-02-07 17:10:37,103 New 12995 registers inserted in Mongo...\n",
      "2023-02-07 17:10:37,104 No new spots found, no new spots were inserted\n",
      "wandb: Waiting for W&B process to finish... (success).\n",
      "wandb: 🚀 View run fresh-dawn-21 at: https://wandb.ai/pgpt_datascience/tv_scan_test/runs/7gnxm3of\n",
      "wandb: Synced 5 W&B file(s), 0 media file(s), 0 artifact file(s) and 0 other file(s)\n",
      "wandb: Find logs at: ./wandb/run-20230207_171031-7gnxm3of/logs\n",
      "2023/02/07 17:10:45 INFO mlflow.projects: === Run (ID 'c93f455ed5bb4f78ab145e6fdc003a4f') succeeded ===\n"
     ]
    },
    {
     "data": {
      "text/plain": [
       "<mlflow.projects.submitted_run.LocalSubmittedRun at 0x7fb088f1abf0>"
      ]
     },
     "execution_count": 4,
     "metadata": {},
     "output_type": "execute_result"
    }
   ],
   "source": [
    "#Is it necessary to update?\n",
    "\n",
    "\n",
    "mlflow.run('components/spotreg_update')\n"
   ]
  },
  {
   "cell_type": "code",
   "execution_count": null,
   "id": "c669754d",
   "metadata": {},
   "outputs": [],
   "source": [
    "#Bellow the name of the collections\n",
    "#db['spots_inventory']\n",
    "#db['Proc_Jobs']"
   ]
  },
  {
   "cell_type": "code",
   "execution_count": 5,
   "id": "11168868",
   "metadata": {},
   "outputs": [],
   "source": [
    "# https://www.programmingfunda.com/filter-records-in-mongodb-using-python/\n",
    "# simple query - {'field1':'value', 'field2':'value'}\n",
    "# number comparison - {\"field\": {\"$gt\": 25}} OR {\"field\": {\"$lt\": 25}} OR {\"field\": {\"$lt\": 25, \"$gt\": 25}}\n",
    "# in list of values {'field':{$in:['item1', 'item2']}}\n",
    "# Regex - {\"field\": {\"$regex\": \"^M\"}}\n",
    "################\n",
    "# MORE OPERATORS - https://www.mongodb.com/docs/manual/reference/operator/query/\n",
    "################\n",
    "filtering = {'BrandDesc':'PEUGEOT'}"
   ]
  },
  {
   "cell_type": "code",
   "execution_count": 11,
   "id": "38c823f6",
   "metadata": {},
   "outputs": [],
   "source": [
    "cursor = db['spots_inventory'].find(filtering)"
   ]
  },
  {
   "cell_type": "code",
   "execution_count": 7,
   "id": "2928cdcb",
   "metadata": {},
   "outputs": [
    {
     "data": {
      "text/plain": [
       "<pymongo.cursor.Cursor at 0x7fb088f1b010>"
      ]
     },
     "execution_count": 7,
     "metadata": {},
     "output_type": "execute_result"
    }
   ],
   "source": [
    "#INSPECT CURSOR\n",
    "docs_toinspect = []\n",
    "for doc in cursor[1:5]:\n",
    "    # Building parameters\n",
    "    docs_toinspect.append(doc)\n",
    "\n"
   ]
  },
  {
   "cell_type": "code",
   "execution_count": 8,
   "id": "e05d6698",
   "metadata": {},
   "outputs": [
    {
     "data": {
      "text/plain": [
       "[{'_id': ObjectId('63e2860c6b85a157d7697c01'),\n",
       "  'SpotCode': 417291,\n",
       "  'SpotDesc': 'LIDER DE VENDAS EM PT 2021.MELHOR MARCA AUTOMOVEL 9\\\\ANO',\n",
       "  'VehicleDesc': 'SIC',\n",
       "  'BrandDesc': 'PEUGEOT',\n",
       "  'SubBrandDesc': nan,\n",
       "  'SectorDesc': 'INDUSTRIA AUTOMOVEL',\n",
       "  'CategoryDesc': 'VEICULOS A MOTOR',\n",
       "  'ClassDesc': 'AUTOMOVEIS',\n",
       "  'SubClassDesc': 'OUTROS OU DIVERSOS',\n",
       "  'AdvertiserDesc': 'PEUGEOT PORTUGAL AUTOMOVEIS SA',\n",
       "  'MediaFile': 417291,\n",
       "  'MediaFileOldUrl': 'http://e-sol.mediamonitor.pt/SOLFILES/TELEVISAO/20220103/417291.wmv'},\n",
       " {'_id': ObjectId('63e2860c6b85a157d7697c02'),\n",
       "  'SpotCode': 417315,\n",
       "  'SpotDesc': 'LIDER DE VENDAS PT 2021.MELHOR MARCA AUTO 9\\\\ANO-SH SICNOT',\n",
       "  'VehicleDesc': 'SIC Noticias',\n",
       "  'BrandDesc': 'PEUGEOT',\n",
       "  'SubBrandDesc': nan,\n",
       "  'SectorDesc': 'INDUSTRIA AUTOMOVEL',\n",
       "  'CategoryDesc': 'VEICULOS A MOTOR',\n",
       "  'ClassDesc': 'AUTOMOVEIS',\n",
       "  'SubClassDesc': 'OUTROS OU DIVERSOS',\n",
       "  'AdvertiserDesc': 'PEUGEOT PORTUGAL AUTOMOVEIS SA',\n",
       "  'MediaFile': 417315,\n",
       "  'MediaFileOldUrl': 'http://e-sol.mediamonitor.pt/SOLFILES/TELEVISAO/20220103/417315.wmv'},\n",
       " {'_id': ObjectId('63e2860c6b85a157d7697db4'),\n",
       "  'SpotCode': 417741,\n",
       "  'SpotDesc': 'NOVO.DESIGN UNICO...SENSACOES UNICAS-SH SICNOT',\n",
       "  'VehicleDesc': 'SIC Noticias',\n",
       "  'BrandDesc': 'PEUGEOT',\n",
       "  'SubBrandDesc': '308 HIBRIDO PLUG-IN',\n",
       "  'SectorDesc': 'INDUSTRIA AUTOMOVEL',\n",
       "  'CategoryDesc': 'VEICULOS A MOTOR',\n",
       "  'ClassDesc': 'AUTOMOVEIS',\n",
       "  'SubClassDesc': 'AUTOMOVEIS DE PASSAGEIROS',\n",
       "  'AdvertiserDesc': 'PEUGEOT PORTUGAL AUTOMOVEIS SA',\n",
       "  'MediaFile': 417741,\n",
       "  'MediaFileOldUrl': 'http://e-sol.mediamonitor.pt/SOLFILES/TELEVISAO/20220117/417741.wmv'},\n",
       " {'_id': ObjectId('63e2860c6b85a157d7697de8'),\n",
       "  'SpotCode': 417811,\n",
       "  'SpotDesc': 'PAT.A MASCARA-E NOVO PEUGEOT 308(FINALISTA CARRO ANO22)',\n",
       "  'VehicleDesc': 'SIC',\n",
       "  'BrandDesc': 'PEUGEOT',\n",
       "  'SubBrandDesc': '308 HIBRIDO PLUG-IN',\n",
       "  'SectorDesc': 'INDUSTRIA AUTOMOVEL',\n",
       "  'CategoryDesc': 'VEICULOS A MOTOR',\n",
       "  'ClassDesc': 'AUTOMOVEIS',\n",
       "  'SubClassDesc': 'AUTOMOVEIS DE PASSAGEIROS',\n",
       "  'AdvertiserDesc': 'PEUGEOT PORTUGAL AUTOMOVEIS SA',\n",
       "  'MediaFile': 417811,\n",
       "  'MediaFileOldUrl': 'http://e-sol.mediamonitor.pt/SOLFILES/TELEVISAO/20220119/417811.wmv'}]"
      ]
     },
     "execution_count": 8,
     "metadata": {},
     "output_type": "execute_result"
    }
   ],
   "source": [
    "docs_toinspect"
   ]
  },
  {
   "cell_type": "code",
   "execution_count": 12,
   "id": "e9170b08",
   "metadata": {},
   "outputs": [],
   "source": [
    "docs_toproc = []\n",
    "for doc in cursor:\n",
    "    # Building parameters\n",
    "    doc_id = doc['_id']\n",
    "    docs_toproc.append(doc_id)\n",
    "    "
   ]
  },
  {
   "cell_type": "code",
   "execution_count": 14,
   "id": "f6575a0c",
   "metadata": {},
   "outputs": [
    {
     "data": {
      "text/plain": [
       "<pymongo.results.InsertOneResult at 0x7fb08aa64760>"
      ]
     },
     "execution_count": 14,
     "metadata": {},
     "output_type": "execute_result"
    }
   ],
   "source": [
    "job_reference = 'test_peugeot'\n",
    "now = datetime.now().strftime(\"%Y-%m-%d %H:%M:%S\")\n",
    "\n",
    "\n",
    "\n",
    "db['Proc_Jobs'].insert_one({'doc_list': docs_toproc, 'j_ref':job_reference, 'status':'Pending Processing.', 'ins_timestamp':now})"
   ]
  },
  {
   "cell_type": "code",
   "execution_count": 15,
   "id": "e45cb0f7",
   "metadata": {},
   "outputs": [
    {
     "name": "stderr",
     "output_type": "stream",
     "text": [
      "2023/02/07 17:13:24 INFO mlflow.projects.docker: === Building docker image get_data:9513e08 ===\n",
      "2023/02/07 17:13:25 INFO mlflow.projects.utils: === Created directory /tmp/tmpgdm64ioe for downloading remote URIs passed to arguments of type 'path' ===\n",
      "2023/02/07 17:13:25 INFO mlflow.projects.backend.local: === Running command 'docker run --rm -v /home/laertio/projects/dev/tv_scan/mlruns:/mlflow/tmp/mlruns -v /home/laertio/projects/dev/tv_scan/mlruns/0/7b961d90746c4b2ca50810aa1e0f4b84/artifacts:/home/laertio/projects/dev/tv_scan/mlruns/0/7b961d90746c4b2ca50810aa1e0f4b84/artifacts -v /home/laertio/projects/dev/tv_scan/conf:/conf -e MLFLOW_RUN_ID=7b961d90746c4b2ca50810aa1e0f4b84 -e MLFLOW_TRACKING_URI=file:///mlflow/tmp/mlruns -e MLFLOW_EXPERIMENT_ID=0 get_data:9513e08 python run.py tv_scan_test spots_inventory /conf/mongo-config.yaml test_peugeot --wandblogin ea7d4ed782356f66850586612f115565b6a8a0c3' in run with ID '7b961d90746c4b2ca50810aa1e0f4b84' === \n",
      "wandb: W&B API key is configured. Use `wandb login --relogin` to force relogin\n",
      "wandb: Appending key for api.wandb.ai to your netrc file: /root/.netrc\n",
      "wandb: Currently logged in as: digital_report (pgpt_datascience). Use `wandb login --relogin` to force relogin\n",
      "wandb: Tracking run with wandb version 0.13.9\n",
      "wandb: Run data is saved locally in /mlflow/projects/code/wandb/run-20230207_171329-jwjmigxg\n",
      "wandb: Run `wandb offline` to turn off syncing.\n",
      "wandb: Syncing run rosy-feather-22\n",
      "wandb: ⭐️ View project at https://wandb.ai/pgpt_datascience/tv_scan_test\n",
      "wandb: 🚀 View run at https://wandb.ai/pgpt_datascience/tv_scan_test/runs/jwjmigxg\n",
      "2023-02-07 17:13:29,573 Process Started.\n",
      "2023-02-07 17:13:29,586 MongoDB info loaded.\n",
      "2023-02-07 17:13:29,587 Getting processing job list...\n",
      "2023-02-07 17:13:29,597 File gathering started.\n",
      "wandb: Waiting for W&B process to finish... (success).\n",
      "wandb: 🚀 View run rosy-feather-22 at: https://wandb.ai/pgpt_datascience/tv_scan_test/runs/jwjmigxg\n",
      "wandb: Synced 5 W&B file(s), 0 media file(s), 0 artifact file(s) and 0 other file(s)\n",
      "wandb: Find logs at: ./wandb/run-20230207_171329-jwjmigxg/logs\n",
      "2023/02/07 17:17:21 INFO mlflow.projects: === Run (ID '7b961d90746c4b2ca50810aa1e0f4b84') succeeded ===\n"
     ]
    },
    {
     "data": {
      "text/plain": [
       "<mlflow.projects.submitted_run.LocalSubmittedRun at 0x7fb088dc9900>"
      ]
     },
     "execution_count": 15,
     "metadata": {},
     "output_type": "execute_result"
    }
   ],
   "source": [
    "# GET DATA\n",
    "\n",
    "\n",
    "run_parameters = {'job_reference':job_reference}\n",
    "\n",
    "\n",
    "\n",
    "mlflow.run('components/get_data', parameters=run_parameters)"
   ]
  },
  {
   "cell_type": "code",
   "execution_count": 17,
   "id": "487004ea",
   "metadata": {},
   "outputs": [
    {
     "name": "stderr",
     "output_type": "stream",
     "text": [
      "2023/02/07 17:21:12 INFO mlflow.projects.docker: === Building docker image feature_extraction:9513e08 ===\n",
      "2023/02/07 17:21:13 INFO mlflow.projects.utils: === Created directory /tmp/tmpjup9avb4 for downloading remote URIs passed to arguments of type 'path' ===\n",
      "2023/02/07 17:21:13 INFO mlflow.projects.backend.local: === Running command 'docker run --rm -v /home/laertio/projects/dev/tv_scan/mlruns:/mlflow/tmp/mlruns -v /home/laertio/projects/dev/tv_scan/mlruns/0/95ab41bbdd8a42499b2c3ff97c1c17f6/artifacts:/home/laertio/projects/dev/tv_scan/mlruns/0/95ab41bbdd8a42499b2c3ff97c1c17f6/artifacts -v /home/laertio/projects/dev/tv_scan/conf:/conf -e MLFLOW_RUN_ID=95ab41bbdd8a42499b2c3ff97c1c17f6 -e MLFLOW_TRACKING_URI=file:///mlflow/tmp/mlruns -e MLFLOW_EXPERIMENT_ID=0 feature_extraction:9513e08 python run.py tv_scan_test spots_inventory /conf/mongo-config.yaml test_peugeot tiny --wandblogin ea7d4ed782356f66850586612f115565b6a8a0c3' in run with ID '95ab41bbdd8a42499b2c3ff97c1c17f6' === \n",
      "wandb: W&B API key is configured. Use `wandb login --relogin` to force relogin\n",
      "wandb: Appending key for api.wandb.ai to your netrc file: /root/.netrc\n",
      "wandb: Currently logged in as: digital_report (pgpt_datascience). Use `wandb login --relogin` to force relogin\n",
      "wandb: Tracking run with wandb version 0.13.9\n",
      "wandb: Run data is saved locally in /mlflow/projects/code/wandb/run-20230207_172117-fxqux7i7\n",
      "wandb: Run `wandb offline` to turn off syncing.\n",
      "wandb: Syncing run ancient-mountain-24\n",
      "wandb: ⭐️ View project at https://wandb.ai/pgpt_datascience/tv_scan_test\n",
      "wandb: 🚀 View run at https://wandb.ai/pgpt_datascience/tv_scan_test/runs/fxqux7i7\n",
      "2023-02-07 17:21:18,110 Process Started.\n",
      "2023-02-07 17:21:18,132 MongoDB info loaded.\n",
      "2023-02-07 17:21:18,133 Getting processing job list...\n",
      "2023-02-07 17:21:18,140 Feature extraction started.\n",
      "100%|██████████████████████████████████████| 72.1M/72.1M [00:00<00:00, 115MiB/s]\n",
      "/usr/local/lib/python3.10/site-packages/whisper/transcribe.py:78: UserWarning: FP16 is not supported on CPU; using FP32 instead\n",
      "  warnings.warn(\"FP16 is not supported on CPU; using FP32 instead\")\n",
      "/usr/local/lib/python3.10/site-packages/whisper/transcribe.py:78: UserWarning: FP16 is not supported on CPU; using FP32 instead\n",
      "  warnings.warn(\"FP16 is not supported on CPU; using FP32 instead\")\n",
      "/usr/local/lib/python3.10/site-packages/whisper/transcribe.py:78: UserWarning: FP16 is not supported on CPU; using FP32 instead\n",
      "  warnings.warn(\"FP16 is not supported on CPU; using FP32 instead\")\n",
      "/usr/local/lib/python3.10/site-packages/whisper/transcribe.py:78: UserWarning: FP16 is not supported on CPU; using FP32 instead\n",
      "  warnings.warn(\"FP16 is not supported on CPU; using FP32 instead\")\n",
      "/usr/local/lib/python3.10/site-packages/whisper/transcribe.py:78: UserWarning: FP16 is not supported on CPU; using FP32 instead\n",
      "  warnings.warn(\"FP16 is not supported on CPU; using FP32 instead\")\n",
      "/usr/local/lib/python3.10/site-packages/whisper/transcribe.py:78: UserWarning: FP16 is not supported on CPU; using FP32 instead\n",
      "  warnings.warn(\"FP16 is not supported on CPU; using FP32 instead\")\n",
      "/usr/local/lib/python3.10/site-packages/whisper/transcribe.py:78: UserWarning: FP16 is not supported on CPU; using FP32 instead\n",
      "  warnings.warn(\"FP16 is not supported on CPU; using FP32 instead\")\n",
      "/usr/local/lib/python3.10/site-packages/whisper/transcribe.py:78: UserWarning: FP16 is not supported on CPU; using FP32 instead\n",
      "  warnings.warn(\"FP16 is not supported on CPU; using FP32 instead\")\n",
      "/usr/local/lib/python3.10/site-packages/whisper/transcribe.py:78: UserWarning: FP16 is not supported on CPU; using FP32 instead\n",
      "  warnings.warn(\"FP16 is not supported on CPU; using FP32 instead\")\n",
      "/usr/local/lib/python3.10/site-packages/whisper/transcribe.py:78: UserWarning: FP16 is not supported on CPU; using FP32 instead\n",
      "  warnings.warn(\"FP16 is not supported on CPU; using FP32 instead\")\n",
      "/usr/local/lib/python3.10/site-packages/whisper/transcribe.py:78: UserWarning: FP16 is not supported on CPU; using FP32 instead\n",
      "  warnings.warn(\"FP16 is not supported on CPU; using FP32 instead\")\n",
      "/usr/local/lib/python3.10/site-packages/whisper/transcribe.py:78: UserWarning: FP16 is not supported on CPU; using FP32 instead\n",
      "  warnings.warn(\"FP16 is not supported on CPU; using FP32 instead\")\n",
      "/usr/local/lib/python3.10/site-packages/whisper/transcribe.py:78: UserWarning: FP16 is not supported on CPU; using FP32 instead\n",
      "  warnings.warn(\"FP16 is not supported on CPU; using FP32 instead\")\n",
      "/usr/local/lib/python3.10/site-packages/whisper/transcribe.py:78: UserWarning: FP16 is not supported on CPU; using FP32 instead\n",
      "  warnings.warn(\"FP16 is not supported on CPU; using FP32 instead\")\n",
      "/usr/local/lib/python3.10/site-packages/whisper/transcribe.py:78: UserWarning: FP16 is not supported on CPU; using FP32 instead\n",
      "  warnings.warn(\"FP16 is not supported on CPU; using FP32 instead\")\n",
      "/usr/local/lib/python3.10/site-packages/whisper/transcribe.py:78: UserWarning: FP16 is not supported on CPU; using FP32 instead\n",
      "  warnings.warn(\"FP16 is not supported on CPU; using FP32 instead\")\n",
      "/usr/local/lib/python3.10/site-packages/whisper/transcribe.py:78: UserWarning: FP16 is not supported on CPU; using FP32 instead\n",
      "  warnings.warn(\"FP16 is not supported on CPU; using FP32 instead\")\n",
      "/usr/local/lib/python3.10/site-packages/whisper/transcribe.py:78: UserWarning: FP16 is not supported on CPU; using FP32 instead\n",
      "  warnings.warn(\"FP16 is not supported on CPU; using FP32 instead\")\n",
      "/usr/local/lib/python3.10/site-packages/whisper/transcribe.py:78: UserWarning: FP16 is not supported on CPU; using FP32 instead\n",
      "  warnings.warn(\"FP16 is not supported on CPU; using FP32 instead\")\n",
      "/usr/local/lib/python3.10/site-packages/whisper/transcribe.py:78: UserWarning: FP16 is not supported on CPU; using FP32 instead\n",
      "  warnings.warn(\"FP16 is not supported on CPU; using FP32 instead\")\n",
      "/usr/local/lib/python3.10/site-packages/whisper/transcribe.py:78: UserWarning: FP16 is not supported on CPU; using FP32 instead\n",
      "  warnings.warn(\"FP16 is not supported on CPU; using FP32 instead\")\n",
      "/usr/local/lib/python3.10/site-packages/whisper/transcribe.py:78: UserWarning: FP16 is not supported on CPU; using FP32 instead\n",
      "  warnings.warn(\"FP16 is not supported on CPU; using FP32 instead\")\n",
      "/usr/local/lib/python3.10/site-packages/whisper/transcribe.py:78: UserWarning: FP16 is not supported on CPU; using FP32 instead\n",
      "  warnings.warn(\"FP16 is not supported on CPU; using FP32 instead\")\n",
      "/usr/local/lib/python3.10/site-packages/whisper/transcribe.py:78: UserWarning: FP16 is not supported on CPU; using FP32 instead\n",
      "  warnings.warn(\"FP16 is not supported on CPU; using FP32 instead\")\n",
      "/usr/local/lib/python3.10/site-packages/whisper/transcribe.py:78: UserWarning: FP16 is not supported on CPU; using FP32 instead\n",
      "  warnings.warn(\"FP16 is not supported on CPU; using FP32 instead\")\n",
      "/usr/local/lib/python3.10/site-packages/whisper/transcribe.py:78: UserWarning: FP16 is not supported on CPU; using FP32 instead\n",
      "  warnings.warn(\"FP16 is not supported on CPU; using FP32 instead\")\n",
      "/usr/local/lib/python3.10/site-packages/whisper/transcribe.py:78: UserWarning: FP16 is not supported on CPU; using FP32 instead\n",
      "  warnings.warn(\"FP16 is not supported on CPU; using FP32 instead\")\n",
      "/usr/local/lib/python3.10/site-packages/whisper/transcribe.py:78: UserWarning: FP16 is not supported on CPU; using FP32 instead\n",
      "  warnings.warn(\"FP16 is not supported on CPU; using FP32 instead\")\n",
      "/usr/local/lib/python3.10/site-packages/whisper/transcribe.py:78: UserWarning: FP16 is not supported on CPU; using FP32 instead\n",
      "  warnings.warn(\"FP16 is not supported on CPU; using FP32 instead\")\n",
      "/usr/local/lib/python3.10/site-packages/whisper/transcribe.py:78: UserWarning: FP16 is not supported on CPU; using FP32 instead\n",
      "  warnings.warn(\"FP16 is not supported on CPU; using FP32 instead\")\n",
      "/usr/local/lib/python3.10/site-packages/whisper/transcribe.py:78: UserWarning: FP16 is not supported on CPU; using FP32 instead\n",
      "  warnings.warn(\"FP16 is not supported on CPU; using FP32 instead\")\n",
      "/usr/local/lib/python3.10/site-packages/whisper/transcribe.py:78: UserWarning: FP16 is not supported on CPU; using FP32 instead\n",
      "  warnings.warn(\"FP16 is not supported on CPU; using FP32 instead\")\n",
      "/usr/local/lib/python3.10/site-packages/whisper/transcribe.py:78: UserWarning: FP16 is not supported on CPU; using FP32 instead\n",
      "  warnings.warn(\"FP16 is not supported on CPU; using FP32 instead\")\n",
      "/usr/local/lib/python3.10/site-packages/whisper/transcribe.py:78: UserWarning: FP16 is not supported on CPU; using FP32 instead\n",
      "  warnings.warn(\"FP16 is not supported on CPU; using FP32 instead\")\n",
      "/usr/local/lib/python3.10/site-packages/whisper/transcribe.py:78: UserWarning: FP16 is not supported on CPU; using FP32 instead\n",
      "  warnings.warn(\"FP16 is not supported on CPU; using FP32 instead\")\n",
      "/usr/local/lib/python3.10/site-packages/whisper/transcribe.py:78: UserWarning: FP16 is not supported on CPU; using FP32 instead\n",
      "  warnings.warn(\"FP16 is not supported on CPU; using FP32 instead\")\n",
      "/usr/local/lib/python3.10/site-packages/whisper/transcribe.py:78: UserWarning: FP16 is not supported on CPU; using FP32 instead\n",
      "  warnings.warn(\"FP16 is not supported on CPU; using FP32 instead\")\n",
      "/usr/local/lib/python3.10/site-packages/whisper/transcribe.py:78: UserWarning: FP16 is not supported on CPU; using FP32 instead\n",
      "  warnings.warn(\"FP16 is not supported on CPU; using FP32 instead\")\n",
      "/usr/local/lib/python3.10/site-packages/whisper/transcribe.py:78: UserWarning: FP16 is not supported on CPU; using FP32 instead\n",
      "  warnings.warn(\"FP16 is not supported on CPU; using FP32 instead\")\n",
      "/usr/local/lib/python3.10/site-packages/whisper/transcribe.py:78: UserWarning: FP16 is not supported on CPU; using FP32 instead\n",
      "  warnings.warn(\"FP16 is not supported on CPU; using FP32 instead\")\n",
      "/usr/local/lib/python3.10/site-packages/whisper/transcribe.py:78: UserWarning: FP16 is not supported on CPU; using FP32 instead\n",
      "  warnings.warn(\"FP16 is not supported on CPU; using FP32 instead\")\n",
      "/usr/local/lib/python3.10/site-packages/whisper/transcribe.py:78: UserWarning: FP16 is not supported on CPU; using FP32 instead\n",
      "  warnings.warn(\"FP16 is not supported on CPU; using FP32 instead\")\n",
      "/usr/local/lib/python3.10/site-packages/whisper/transcribe.py:78: UserWarning: FP16 is not supported on CPU; using FP32 instead\n",
      "  warnings.warn(\"FP16 is not supported on CPU; using FP32 instead\")\n",
      "/usr/local/lib/python3.10/site-packages/whisper/transcribe.py:78: UserWarning: FP16 is not supported on CPU; using FP32 instead\n",
      "  warnings.warn(\"FP16 is not supported on CPU; using FP32 instead\")\n",
      "/usr/local/lib/python3.10/site-packages/whisper/transcribe.py:78: UserWarning: FP16 is not supported on CPU; using FP32 instead\n",
      "  warnings.warn(\"FP16 is not supported on CPU; using FP32 instead\")\n",
      "/usr/local/lib/python3.10/site-packages/whisper/transcribe.py:78: UserWarning: FP16 is not supported on CPU; using FP32 instead\n",
      "  warnings.warn(\"FP16 is not supported on CPU; using FP32 instead\")\n",
      "/usr/local/lib/python3.10/site-packages/whisper/transcribe.py:78: UserWarning: FP16 is not supported on CPU; using FP32 instead\n",
      "  warnings.warn(\"FP16 is not supported on CPU; using FP32 instead\")\n",
      "/usr/local/lib/python3.10/site-packages/whisper/transcribe.py:78: UserWarning: FP16 is not supported on CPU; using FP32 instead\n",
      "  warnings.warn(\"FP16 is not supported on CPU; using FP32 instead\")\n",
      "/usr/local/lib/python3.10/site-packages/whisper/transcribe.py:78: UserWarning: FP16 is not supported on CPU; using FP32 instead\n",
      "  warnings.warn(\"FP16 is not supported on CPU; using FP32 instead\")\n",
      "/usr/local/lib/python3.10/site-packages/whisper/transcribe.py:78: UserWarning: FP16 is not supported on CPU; using FP32 instead\n",
      "  warnings.warn(\"FP16 is not supported on CPU; using FP32 instead\")\n",
      "/usr/local/lib/python3.10/site-packages/whisper/transcribe.py:78: UserWarning: FP16 is not supported on CPU; using FP32 instead\n",
      "  warnings.warn(\"FP16 is not supported on CPU; using FP32 instead\")\n",
      "/usr/local/lib/python3.10/site-packages/whisper/transcribe.py:78: UserWarning: FP16 is not supported on CPU; using FP32 instead\n",
      "  warnings.warn(\"FP16 is not supported on CPU; using FP32 instead\")\n",
      "/usr/local/lib/python3.10/site-packages/whisper/transcribe.py:78: UserWarning: FP16 is not supported on CPU; using FP32 instead\n",
      "  warnings.warn(\"FP16 is not supported on CPU; using FP32 instead\")\n",
      "/usr/local/lib/python3.10/site-packages/whisper/transcribe.py:78: UserWarning: FP16 is not supported on CPU; using FP32 instead\n",
      "  warnings.warn(\"FP16 is not supported on CPU; using FP32 instead\")\n",
      "/usr/local/lib/python3.10/site-packages/whisper/transcribe.py:78: UserWarning: FP16 is not supported on CPU; using FP32 instead\n",
      "  warnings.warn(\"FP16 is not supported on CPU; using FP32 instead\")\n",
      "/usr/local/lib/python3.10/site-packages/whisper/transcribe.py:78: UserWarning: FP16 is not supported on CPU; using FP32 instead\n",
      "  warnings.warn(\"FP16 is not supported on CPU; using FP32 instead\")\n",
      "/usr/local/lib/python3.10/site-packages/whisper/transcribe.py:78: UserWarning: FP16 is not supported on CPU; using FP32 instead\n",
      "  warnings.warn(\"FP16 is not supported on CPU; using FP32 instead\")\n",
      "/usr/local/lib/python3.10/site-packages/whisper/transcribe.py:78: UserWarning: FP16 is not supported on CPU; using FP32 instead\n",
      "  warnings.warn(\"FP16 is not supported on CPU; using FP32 instead\")\n",
      "/usr/local/lib/python3.10/site-packages/whisper/transcribe.py:78: UserWarning: FP16 is not supported on CPU; using FP32 instead\n",
      "  warnings.warn(\"FP16 is not supported on CPU; using FP32 instead\")\n",
      "/usr/local/lib/python3.10/site-packages/whisper/transcribe.py:78: UserWarning: FP16 is not supported on CPU; using FP32 instead\n",
      "  warnings.warn(\"FP16 is not supported on CPU; using FP32 instead\")\n",
      "/usr/local/lib/python3.10/site-packages/whisper/transcribe.py:78: UserWarning: FP16 is not supported on CPU; using FP32 instead\n",
      "  warnings.warn(\"FP16 is not supported on CPU; using FP32 instead\")\n",
      "/usr/local/lib/python3.10/site-packages/whisper/transcribe.py:78: UserWarning: FP16 is not supported on CPU; using FP32 instead\n",
      "  warnings.warn(\"FP16 is not supported on CPU; using FP32 instead\")\n",
      "wandb: Waiting for W&B process to finish... (success).\n",
      "wandb: \\ 0.001 MB of 0.001 MB uploaded (0.000 MB deduped)\n",
      "wandb: Run history:\n",
      "wandb:  comp_rate ▅▄▄▂▅▄▄▃▂▄▅█▄▄▅▄▃▄▁▄▃▃▃▃▂▃▃▂▃▃▃▂▅▄▃▄▆▅▅▄\n",
      "wandb:   log_prob ██▃▃██▃▅▂███▇██▅▁▃▂▁▇▄▄█▇▇▂▆▇▇▄▇████████\n",
      "wandb: nospe_prob ▂▁▇▇▄▂▅▅▄▂▁▆▂▄▃▆▄▆▄▄▄▄▄▃▄▇▂▃▇▇▃█▅▃▂▂▄▄▆▃\n",
      "wandb:       temp ▁▁██▁▁███▁▁▁▂▁▁▇████▁██▁▁▁▆█▁▁█▁▁▁▁▂▁▁▁▁\n",
      "wandb: \n",
      "wandb: Run summary:\n",
      "wandb:  comp_rate 1.16156\n",
      "wandb:   log_prob -0.61892\n",
      "wandb: nospe_prob 0.09572\n",
      "wandb:       temp 0.0\n",
      "wandb: \n",
      "wandb: 🚀 View run ancient-mountain-24 at: https://wandb.ai/pgpt_datascience/tv_scan_test/runs/fxqux7i7\n",
      "wandb: Synced 5 W&B file(s), 0 media file(s), 0 artifact file(s) and 0 other file(s)\n",
      "wandb: Find logs at: ./wandb/run-20230207_172117-fxqux7i7/logs\n",
      "2023/02/07 17:33:41 INFO mlflow.projects: === Run (ID '95ab41bbdd8a42499b2c3ff97c1c17f6') succeeded ===\n"
     ]
    },
    {
     "data": {
      "text/plain": [
       "<mlflow.projects.submitted_run.LocalSubmittedRun at 0x7fb088260d60>"
      ]
     },
     "execution_count": 17,
     "metadata": {},
     "output_type": "execute_result"
    }
   ],
   "source": [
    "# FEATURE EXTRACTION\n",
    "\n",
    "\n",
    "run_parameters = {'job_reference':job_reference}\n",
    "\n",
    "mlflow.run('components/feature_extraction', parameters=run_parameters)\n"
   ]
  },
  {
   "cell_type": "code",
   "execution_count": null,
   "id": "a4c3f010",
   "metadata": {},
   "outputs": [],
   "source": [
    "# CHECK - "
   ]
  }
 ],
 "metadata": {
  "kernelspec": {
   "display_name": "tv_scan",
   "language": "python",
   "name": "python3"
  },
  "language_info": {
   "codemirror_mode": {
    "name": "ipython",
    "version": 3
   },
   "file_extension": ".py",
   "mimetype": "text/x-python",
   "name": "python",
   "nbconvert_exporter": "python",
   "pygments_lexer": "ipython3",
   "version": "3.10.8"
  },
  "vscode": {
   "interpreter": {
    "hash": "0b2c4ef03dc575ac701c496e59b28123b2af8386c2e60fe9eef0f5870ffd42b9"
   }
  }
 },
 "nbformat": 4,
 "nbformat_minor": 5
}
