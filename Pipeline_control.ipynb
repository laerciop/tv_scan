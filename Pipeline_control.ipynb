{
 "cells": [
  {
   "cell_type": "code",
   "execution_count": 18,
   "id": "08fd1aba",
   "metadata": {},
   "outputs": [],
   "source": [
    "from datetime import datetime\n",
    "\n",
    "from pymongo import MongoClient, InsertOne, UpdateOne\n",
    "import mlflow\n",
    "\n",
    "\n",
    "from omegaconf import OmegaConf\n",
    "import pandas as pd\n",
    "# import urllib.request\n",
    "# import tempfile\n",
    "# from gcsfs import GCSFileSystem\n",
    "\n"
   ]
  },
  {
   "cell_type": "code",
   "execution_count": 2,
   "id": "1389a52a",
   "metadata": {},
   "outputs": [],
   "source": [
    "\n",
    "def mongo_client(config_file_path):\n",
    "    \"\"\"Funcion to turn mongo client ON\"\"\"\n",
    "    config = OmegaConf.load(config_file_path)\n",
    "    server_ip = config.main.server_ip\n",
    "    port = config.main.port\n",
    "    if config.main.login:\n",
    "        user = config.main.user\n",
    "        passwd = config.main.passwd\n",
    "        client = MongoClient(f'mongodb://{server_ip}:{port}',\n",
    "                            username=user,\n",
    "                            password=passwd)\n",
    "    else:\n",
    "        client = MongoClient(f'mongodb://{server_ip}:{port}')\n",
    "\n",
    "    return client\n",
    "\n",
    "\n",
    "\n",
    "class FileHandler():\n",
    "    \"\"\"Class to get file and save it to GCP.\"\"\"\n",
    "    def __init__(self, gc_project):\n",
    "        self.file_system = GCSFileSystem(project=gc_project)\n",
    "\n",
    "    def spot_download_helper(self, url, dest_name):\n",
    "        \"\"\"Function to get file and save it to GCP.\"\"\"\n",
    "        dest_file = 'tv_spots_store/'+dest_name\n",
    "        print(f\"FILENAME:  {dest_file}\")\n",
    "        self.file_system.touch(dest_file)\n",
    "        with self.file_system.open(dest_file, mode='wb') as file:\n",
    "            with tempfile.NamedTemporaryFile() as bin_file:\n",
    "                try:\n",
    "                    urllib.request.urlretrieve(url, bin_file.name)\n",
    "                    data = bin_file.read()\n",
    "                    file.write(data)\n",
    "                except Exception as e:\n",
    "                    return str(e)\n",
    "            file_url = file.info()\n",
    "        return (dest_file, file_url)"
   ]
  },
  {
   "cell_type": "code",
   "execution_count": 5,
   "id": "463fd389",
   "metadata": {},
   "outputs": [],
   "source": [
    "# START SERVER IF NEEDED - docker run --name testing-mongo -p 27017:27017 mongo:latest\n",
    "server = mongo_client('conf/mongo-config.yaml')\n",
    "db = server.TV_scan\n"
   ]
  },
  {
   "cell_type": "code",
   "execution_count": 6,
   "id": "2300cc4f",
   "metadata": {},
   "outputs": [
    {
     "name": "stderr",
     "output_type": "stream",
     "text": [
      "2023/02/08 10:51:31 INFO mlflow.projects.docker: === Building docker image register_update:f27ab8b ===\n",
      "2023/02/08 10:51:32 INFO mlflow.projects.utils: === Created directory /tmp/tmp72z5pcbu for downloading remote URIs passed to arguments of type 'path' ===\n",
      "2023/02/08 10:51:32 INFO mlflow.projects.backend.local: === Running command 'docker run --rm -v /home/laertio/projects/dev/tv_scan/mlruns:/mlflow/tmp/mlruns -v /home/laertio/projects/dev/tv_scan/mlruns/0/52410d5254fe4292b60115cbb6d513d9/artifacts:/home/laertio/projects/dev/tv_scan/mlruns/0/52410d5254fe4292b60115cbb6d513d9/artifacts -v /home/laertio/projects/dev/tv_scan/components/spotreg_update/data_in:/data_in -v /home/laertio/projects/dev/tv_scan/conf:/conf -e MLFLOW_RUN_ID=52410d5254fe4292b60115cbb6d513d9 -e MLFLOW_TRACKING_URI=file:///mlflow/tmp/mlruns -e MLFLOW_EXPERIMENT_ID=0 register_update:9513e08 python run.py tv_scan_test input_sample.xlsx /conf/mongo-config.yaml spots_inventory --wandblogin=ea7d4ed782356f66850586612f115565b6a8a0c3' in run with ID '52410d5254fe4292b60115cbb6d513d9' === \n",
      "wandb: W&B API key is configured. Use `wandb login --relogin` to force relogin\n",
      "wandb: Appending key for api.wandb.ai to your netrc file: /root/.netrc\n",
      "wandb: Currently logged in as: digital_report (pgpt_datascience). Use `wandb login --relogin` to force relogin\n",
      "wandb: wandb version 0.13.10 is available!  To upgrade, please run:\n",
      "wandb:  $ pip install wandb --upgrade\n",
      "wandb: Tracking run with wandb version 0.13.9\n",
      "wandb: Run data is saved locally in /mlflow/projects/code/wandb/run-20230208_105137-bo3axnh8\n",
      "wandb: Run `wandb offline` to turn off syncing.\n",
      "wandb: Syncing run visionary-bird-25\n",
      "wandb: ⭐️ View project at https://wandb.ai/pgpt_datascience/tv_scan_test\n",
      "wandb: 🚀 View run at https://wandb.ai/pgpt_datascience/tv_scan_test/runs/bo3axnh8\n",
      "2023-02-08 10:51:46,022 File input_sample.xlsx loaded...\n",
      "2023-02-08 10:51:46,072 TV Scan DB config loaded...\n",
      "2023-02-08 10:51:46,734 New 12995 registers inserted in Mongo...\n",
      "2023-02-08 10:51:46,735 No new spots found, no new spots were inserted\n",
      "wandb: Waiting for W&B process to finish... (success).\n",
      "wandb: 🚀 View run visionary-bird-25 at: https://wandb.ai/pgpt_datascience/tv_scan_test/runs/bo3axnh8\n",
      "wandb: Synced 5 W&B file(s), 0 media file(s), 0 artifact file(s) and 0 other file(s)\n",
      "wandb: Find logs at: ./wandb/run-20230208_105137-bo3axnh8/logs\n",
      "2023/02/08 10:51:53 INFO mlflow.projects: === Run (ID '52410d5254fe4292b60115cbb6d513d9') succeeded ===\n"
     ]
    },
    {
     "data": {
      "text/plain": [
       "<mlflow.projects.submitted_run.LocalSubmittedRun at 0x7f0c204e7f10>"
      ]
     },
     "execution_count": 6,
     "metadata": {},
     "output_type": "execute_result"
    }
   ],
   "source": [
    "#Is it necessary to update?\n",
    "\n",
    "\n",
    "mlflow.run('components/spotreg_update')\n"
   ]
  },
  {
   "cell_type": "code",
   "execution_count": null,
   "id": "c669754d",
   "metadata": {},
   "outputs": [],
   "source": [
    "#Bellow the name of the collections\n",
    "#db['spots_inventory']\n",
    "#db['Proc_Jobs']"
   ]
  },
  {
   "cell_type": "code",
   "execution_count": 52,
   "id": "11168868",
   "metadata": {},
   "outputs": [],
   "source": [
    "# https://www.programmingfunda.com/filter-records-in-mongodb-using-python/\n",
    "# simple query - {'field1':'value', 'field2':'value'}\n",
    "# number comparison - {\"field\": {\"$gt\": 25}} OR {\"field\": {\"$lt\": 25}} OR {\"field\": {\"$lt\": 25, \"$gt\": 25}}\n",
    "# in list of values {'field':{$in:['item1', 'item2']}}\n",
    "# Regex - {\"field\": {\"$regex\": \"^M\"}}\n",
    "################\n",
    "# MORE OPERATORS - https://www.mongodb.com/docs/manual/reference/operator/query/\n",
    "################\n",
    "filtering = {'SpotCode':417315}"
   ]
  },
  {
   "cell_type": "code",
   "execution_count": 53,
   "id": "38c823f6",
   "metadata": {},
   "outputs": [],
   "source": [
    "cursor = db['spots_inventory'].find(filtering)"
   ]
  },
  {
   "cell_type": "code",
   "execution_count": 54,
   "id": "2928cdcb",
   "metadata": {},
   "outputs": [],
   "source": [
    "#INSPECT CURSOR\n",
    "docs_toinspect = []\n",
    "for doc in cursor[1:5]:\n",
    "    # Building parameters\n",
    "    docs_toinspect.append(doc)\n",
    "\n"
   ]
  },
  {
   "cell_type": "code",
   "execution_count": 55,
   "id": "e05d6698",
   "metadata": {},
   "outputs": [
    {
     "data": {
      "text/plain": [
       "[{'_id': ObjectId('63e37ec23265fd3b1ffcc9bb'),\n",
       "  'SpotCode': 417315,\n",
       "  'SpotDesc': 'LIDER DE VENDAS PT 2021.MELHOR MARCA AUTO 9\\\\ANO-SH SICNOT',\n",
       "  'VehicleDesc': 'SIC Noticias',\n",
       "  'BrandDesc': 'PEUGEOT',\n",
       "  'SubBrandDesc': nan,\n",
       "  'SectorDesc': 'INDUSTRIA AUTOMOVEL',\n",
       "  'CategoryDesc': 'VEICULOS A MOTOR',\n",
       "  'ClassDesc': 'AUTOMOVEIS',\n",
       "  'SubClassDesc': 'OUTROS OU DIVERSOS',\n",
       "  'AdvertiserDesc': 'PEUGEOT PORTUGAL AUTOMOVEIS SA',\n",
       "  'MediaFile': 417315,\n",
       "  'MediaFileOldUrl': 'http://e-sol.mediamonitor.pt/SOLFILES/TELEVISAO/20220103/417315.wmv',\n",
       "  'GCP_path': 'tv_spots_store/417315_PEUGEOT.wmv',\n",
       "  'spot_store_filename': 'https://www.googleapis.com/storage/v1/b/tv_spots_store/o/417315_PEUGEOT.wmv',\n",
       "  'audtrans_lang': 'pt',\n",
       "  'audtrans_tiny': ' O momento é de quem o acar, com o caro. E este é o momento de assumirmos a nossa natureza. Somos liões, Somos liadas. Apesou a lidar em Portugal. Foi a marca mais vendida em 2021, e pelo no ano com o que vivo, ele é o que a melhor marca automóvel na escolha do consumidor. Por clíderas, é natureza dos liões.',\n",
       "  'audtrans_small': ' O momento é de quem o agarra com o carro. E este é o momento de assumirmos a nossa natureza. Somos liões, somos líderes. Aparjou-a líder em Portugal. Foi a marca mais vendida em 2021 e pelo 9º ano consecutivo, eleita a melhor marca automóvel na escolha do consumidor. Porque liderar é a natureza dos liões.'}]"
      ]
     },
     "execution_count": 55,
     "metadata": {},
     "output_type": "execute_result"
    }
   ],
   "source": [
    "docs_toinspect"
   ]
  },
  {
   "cell_type": "code",
   "execution_count": 56,
   "id": "e9170b08",
   "metadata": {},
   "outputs": [],
   "source": [
    "cursor = db['spots_inventory'].find(filtering)\n",
    "\n",
    "docs_toproc = []\n",
    "for doc in cursor:\n",
    "    # Building parameters\n",
    "    doc_id = doc['_id']\n",
    "    docs_toproc.append(doc_id)\n",
    "    "
   ]
  },
  {
   "cell_type": "code",
   "execution_count": 57,
   "id": "f6575a0c",
   "metadata": {},
   "outputs": [
    {
     "data": {
      "text/plain": [
       "<pymongo.results.InsertOneResult at 0x7f0c1b29b850>"
      ]
     },
     "execution_count": 57,
     "metadata": {},
     "output_type": "execute_result"
    }
   ],
   "source": [
    "job_reference = 'test_medium_peugeot'\n",
    "now = datetime.now().strftime(\"%Y-%m-%d %H:%M:%S\")\n",
    "\n",
    "\n",
    "\n",
    "db['Proc_Jobs'].insert_one({'doc_list': docs_toproc, 'j_ref':job_reference, 'status':'Pending Processing.', 'ins_timestamp':now})"
   ]
  },
  {
   "cell_type": "code",
   "execution_count": 14,
   "id": "e45cb0f7",
   "metadata": {},
   "outputs": [
    {
     "name": "stderr",
     "output_type": "stream",
     "text": [
      "2023/02/08 11:12:07 INFO mlflow.projects.docker: === Building docker image get_data:f27ab8b ===\n",
      "2023/02/08 11:12:07 INFO mlflow.projects.utils: === Created directory /tmp/tmpar5wfpw3 for downloading remote URIs passed to arguments of type 'path' ===\n",
      "2023/02/08 11:12:07 INFO mlflow.projects.backend.local: === Running command 'docker run --rm -v /home/laertio/projects/dev/tv_scan/mlruns:/mlflow/tmp/mlruns -v /home/laertio/projects/dev/tv_scan/mlruns/0/fae19725e9bf49a9accba87b96fcc669/artifacts:/home/laertio/projects/dev/tv_scan/mlruns/0/fae19725e9bf49a9accba87b96fcc669/artifacts -v /home/laertio/projects/dev/tv_scan/conf:/conf -e MLFLOW_RUN_ID=fae19725e9bf49a9accba87b96fcc669 -e MLFLOW_TRACKING_URI=file:///mlflow/tmp/mlruns -e MLFLOW_EXPERIMENT_ID=0 get_data:9513e08 python run.py tv_scan_test spots_inventory /conf/mongo-config.yaml test_peugeot --wandblogin ea7d4ed782356f66850586612f115565b6a8a0c3' in run with ID 'fae19725e9bf49a9accba87b96fcc669' === \n",
      "wandb: W&B API key is configured. Use `wandb login --relogin` to force relogin\n",
      "wandb: Appending key for api.wandb.ai to your netrc file: /root/.netrc\n",
      "wandb: Currently logged in as: digital_report (pgpt_datascience). Use `wandb login --relogin` to force relogin\n",
      "wandb: wandb version 0.13.10 is available!  To upgrade, please run:\n",
      "wandb:  $ pip install wandb --upgrade\n",
      "wandb: Tracking run with wandb version 0.13.9\n",
      "wandb: Run data is saved locally in /mlflow/projects/code/wandb/run-20230208_111211-uhvqus7t\n",
      "wandb: Run `wandb offline` to turn off syncing.\n",
      "wandb: Syncing run clean-glade-27\n",
      "wandb: ⭐️ View project at https://wandb.ai/pgpt_datascience/tv_scan_test\n",
      "wandb: 🚀 View run at https://wandb.ai/pgpt_datascience/tv_scan_test/runs/uhvqus7t\n",
      "2023-02-08 11:12:11,753 Process Started.\n",
      "2023-02-08 11:12:11,773 MongoDB info loaded.\n",
      "2023-02-08 11:12:11,775 Getting processing job list...\n",
      "2023-02-08 11:12:11,784 File gathering started.\n",
      "wandb: Waiting for W&B process to finish... (success).\n",
      "wandb: 🚀 View run clean-glade-27 at: https://wandb.ai/pgpt_datascience/tv_scan_test/runs/uhvqus7t\n",
      "wandb: Synced 5 W&B file(s), 0 media file(s), 0 artifact file(s) and 0 other file(s)\n",
      "wandb: Find logs at: ./wandb/run-20230208_111211-uhvqus7t/logs\n",
      "2023/02/08 11:12:19 INFO mlflow.projects: === Run (ID 'fae19725e9bf49a9accba87b96fcc669') succeeded ===\n"
     ]
    },
    {
     "data": {
      "text/plain": [
       "<mlflow.projects.submitted_run.LocalSubmittedRun at 0x7f0c1b292b30>"
      ]
     },
     "execution_count": 14,
     "metadata": {},
     "output_type": "execute_result"
    }
   ],
   "source": [
    "# GET DATA\n",
    "\n",
    "\n",
    "run_parameters = {'job_reference':job_reference}\n",
    "\n",
    "\n",
    "\n",
    "mlflow.run('components/get_data', parameters=run_parameters)"
   ]
  },
  {
   "cell_type": "code",
   "execution_count": 58,
   "id": "487004ea",
   "metadata": {},
   "outputs": [
    {
     "name": "stderr",
     "output_type": "stream",
     "text": [
      "2023/02/08 15:46:54 INFO mlflow.projects.docker: === Building docker image feature_extraction:f27ab8b ===\n",
      "2023/02/08 15:46:54 INFO mlflow.projects.utils: === Created directory /tmp/tmp7wgft3f9 for downloading remote URIs passed to arguments of type 'path' ===\n",
      "2023/02/08 15:46:54 INFO mlflow.projects.backend.local: === Running command 'docker run --rm -v /home/laertio/projects/dev/tv_scan/mlruns:/mlflow/tmp/mlruns -v /home/laertio/projects/dev/tv_scan/mlruns/0/210c0592ff1f46c4b0124b2ad15b7ab7/artifacts:/home/laertio/projects/dev/tv_scan/mlruns/0/210c0592ff1f46c4b0124b2ad15b7ab7/artifacts -v /home/laertio/projects/dev/tv_scan/conf:/conf -e MLFLOW_RUN_ID=210c0592ff1f46c4b0124b2ad15b7ab7 -e MLFLOW_TRACKING_URI=file:///mlflow/tmp/mlruns -e MLFLOW_EXPERIMENT_ID=0 feature_extraction:9513e08 python run.py tv_scan_test spots_inventory /conf/mongo-config.yaml test_medium_peugeot medium --wandblogin ea7d4ed782356f66850586612f115565b6a8a0c3' in run with ID '210c0592ff1f46c4b0124b2ad15b7ab7' === \n",
      "wandb: W&B API key is configured. Use `wandb login --relogin` to force relogin\n",
      "wandb: Appending key for api.wandb.ai to your netrc file: /root/.netrc\n",
      "wandb: Currently logged in as: digital_report (pgpt_datascience). Use `wandb login --relogin` to force relogin\n",
      "wandb: wandb version 0.13.10 is available!  To upgrade, please run:\n",
      "wandb:  $ pip install wandb --upgrade\n",
      "wandb: Tracking run with wandb version 0.13.9\n",
      "wandb: Run data is saved locally in /mlflow/projects/code/wandb/run-20230208_154701-cw6vit9d\n",
      "wandb: Run `wandb offline` to turn off syncing.\n",
      "wandb: Syncing run bumbling-galaxy-30\n",
      "wandb: ⭐️ View project at https://wandb.ai/pgpt_datascience/tv_scan_test\n",
      "wandb: 🚀 View run at https://wandb.ai/pgpt_datascience/tv_scan_test/runs/cw6vit9d\n",
      "2023-02-08 15:47:01,493 Process Started.\n",
      "2023-02-08 15:47:01,520 MongoDB info loaded.\n",
      "2023-02-08 15:47:01,521 Getting processing job list...\n",
      "2023-02-08 15:47:01,534 Feature extraction started.\n",
      "100%|█████████████████████████████████████| 1.42G/1.42G [00:30<00:00, 50.1MiB/s]\n",
      "/usr/local/lib/python3.10/site-packages/whisper/transcribe.py:78: UserWarning: FP16 is not supported on CPU; using FP32 instead\n",
      "  warnings.warn(\"FP16 is not supported on CPU; using FP32 instead\")\n",
      "wandb: Waiting for W&B process to finish... (success).\n",
      "wandb: | 0.001 MB of 0.004 MB uploaded (0.000 MB deduped)\n",
      "wandb: Run history:\n",
      "wandb:  comp_rate ▁\n",
      "wandb:   log_prob ▁\n",
      "wandb: nospe_prob ▁\n",
      "wandb:       temp ▁\n",
      "wandb: \n",
      "wandb: Run summary:\n",
      "wandb:  comp_rate 1.39086\n",
      "wandb:   log_prob -0.17188\n",
      "wandb: nospe_prob 0.05446\n",
      "wandb:       temp 0.0\n",
      "wandb: \n",
      "wandb: 🚀 View run bumbling-galaxy-30 at: https://wandb.ai/pgpt_datascience/tv_scan_test/runs/cw6vit9d\n",
      "wandb: Synced 5 W&B file(s), 0 media file(s), 0 artifact file(s) and 0 other file(s)\n",
      "wandb: Find logs at: ./wandb/run-20230208_154701-cw6vit9d/logs\n",
      "2023/02/08 15:50:05 INFO mlflow.projects: === Run (ID '210c0592ff1f46c4b0124b2ad15b7ab7') succeeded ===\n"
     ]
    },
    {
     "data": {
      "text/plain": [
       "<mlflow.projects.submitted_run.LocalSubmittedRun at 0x7f0c1b298250>"
      ]
     },
     "execution_count": 58,
     "metadata": {},
     "output_type": "execute_result"
    }
   ],
   "source": [
    "# FEATURE EXTRACTION\n",
    "\n",
    "\n",
    "run_parameters = {'job_reference':job_reference, 'model_type':'medium'}\n",
    "\n",
    "mlflow.run('components/feature_extraction', parameters=run_parameters)\n"
   ]
  },
  {
   "cell_type": "code",
   "execution_count": 59,
   "id": "a4c3f010",
   "metadata": {},
   "outputs": [],
   "source": [
    "# CHECK - after feature extraction\n",
    "job = db['Proc_Jobs'].find_one({'j_ref':job_reference})\n",
    "\n",
    "cursor = db['spots_inventory'].find({'_id':{'$in':job['doc_list']}})\n",
    "\n",
    "records = []\n",
    "for doc in cursor:\n",
    "    records.append(doc)"
   ]
  },
  {
   "cell_type": "code",
   "execution_count": 60,
   "id": "d11b686d",
   "metadata": {},
   "outputs": [],
   "source": [
    "df = pd.DataFrame.from_records(records)"
   ]
  },
  {
   "cell_type": "code",
   "execution_count": 61,
   "id": "363cafbb",
   "metadata": {},
   "outputs": [
    {
     "data": {
      "text/html": [
       "<div>\n",
       "<style scoped>\n",
       "    .dataframe tbody tr th:only-of-type {\n",
       "        vertical-align: middle;\n",
       "    }\n",
       "\n",
       "    .dataframe tbody tr th {\n",
       "        vertical-align: top;\n",
       "    }\n",
       "\n",
       "    .dataframe thead th {\n",
       "        text-align: right;\n",
       "    }\n",
       "</style>\n",
       "<table border=\"1\" class=\"dataframe\">\n",
       "  <thead>\n",
       "    <tr style=\"text-align: right;\">\n",
       "      <th></th>\n",
       "      <th>_id</th>\n",
       "      <th>SpotCode</th>\n",
       "      <th>SpotDesc</th>\n",
       "      <th>VehicleDesc</th>\n",
       "      <th>BrandDesc</th>\n",
       "      <th>SubBrandDesc</th>\n",
       "      <th>SectorDesc</th>\n",
       "      <th>CategoryDesc</th>\n",
       "      <th>ClassDesc</th>\n",
       "      <th>SubClassDesc</th>\n",
       "      <th>AdvertiserDesc</th>\n",
       "      <th>MediaFile</th>\n",
       "      <th>MediaFileOldUrl</th>\n",
       "      <th>GCP_path</th>\n",
       "      <th>spot_store_filename</th>\n",
       "      <th>audtrans_lang</th>\n",
       "      <th>audtrans_tiny</th>\n",
       "      <th>audtrans_small</th>\n",
       "      <th>audtrans_medium</th>\n",
       "    </tr>\n",
       "  </thead>\n",
       "  <tbody>\n",
       "    <tr>\n",
       "      <th>0</th>\n",
       "      <td>63e37ec23265fd3b1ffcc9bb</td>\n",
       "      <td>417315</td>\n",
       "      <td>LIDER DE VENDAS PT 2021.MELHOR MARCA AUTO 9\\AN...</td>\n",
       "      <td>SIC Noticias</td>\n",
       "      <td>PEUGEOT</td>\n",
       "      <td>NaN</td>\n",
       "      <td>INDUSTRIA AUTOMOVEL</td>\n",
       "      <td>VEICULOS A MOTOR</td>\n",
       "      <td>AUTOMOVEIS</td>\n",
       "      <td>OUTROS OU DIVERSOS</td>\n",
       "      <td>PEUGEOT PORTUGAL AUTOMOVEIS SA</td>\n",
       "      <td>417315</td>\n",
       "      <td>http://e-sol.mediamonitor.pt/SOLFILES/TELEVISA...</td>\n",
       "      <td>tv_spots_store/417315_PEUGEOT.wmv</td>\n",
       "      <td>https://www.googleapis.com/storage/v1/b/tv_spo...</td>\n",
       "      <td>pt</td>\n",
       "      <td>O momento é de quem o acar, com o caro. E est...</td>\n",
       "      <td>O momento é de quem o agarra com o carro. E e...</td>\n",
       "      <td>O momento é de quem o agarra, com um carro. E...</td>\n",
       "    </tr>\n",
       "  </tbody>\n",
       "</table>\n",
       "</div>"
      ],
      "text/plain": [
       "                        _id  SpotCode  \\\n",
       "0  63e37ec23265fd3b1ffcc9bb    417315   \n",
       "\n",
       "                                            SpotDesc   VehicleDesc BrandDesc  \\\n",
       "0  LIDER DE VENDAS PT 2021.MELHOR MARCA AUTO 9\\AN...  SIC Noticias   PEUGEOT   \n",
       "\n",
       "   SubBrandDesc           SectorDesc      CategoryDesc   ClassDesc  \\\n",
       "0           NaN  INDUSTRIA AUTOMOVEL  VEICULOS A MOTOR  AUTOMOVEIS   \n",
       "\n",
       "         SubClassDesc                  AdvertiserDesc  MediaFile  \\\n",
       "0  OUTROS OU DIVERSOS  PEUGEOT PORTUGAL AUTOMOVEIS SA     417315   \n",
       "\n",
       "                                     MediaFileOldUrl  \\\n",
       "0  http://e-sol.mediamonitor.pt/SOLFILES/TELEVISA...   \n",
       "\n",
       "                            GCP_path  \\\n",
       "0  tv_spots_store/417315_PEUGEOT.wmv   \n",
       "\n",
       "                                 spot_store_filename audtrans_lang  \\\n",
       "0  https://www.googleapis.com/storage/v1/b/tv_spo...            pt   \n",
       "\n",
       "                                       audtrans_tiny  \\\n",
       "0   O momento é de quem o acar, com o caro. E est...   \n",
       "\n",
       "                                      audtrans_small  \\\n",
       "0   O momento é de quem o agarra com o carro. E e...   \n",
       "\n",
       "                                     audtrans_medium  \n",
       "0   O momento é de quem o agarra, com um carro. E...  "
      ]
     },
     "execution_count": 61,
     "metadata": {},
     "output_type": "execute_result"
    }
   ],
   "source": [
    "df.head()"
   ]
  },
  {
   "cell_type": "code",
   "execution_count": 62,
   "id": "3c15e8d3",
   "metadata": {},
   "outputs": [
    {
     "data": {
      "text/plain": [
       "' O momento é de quem o acar, com o caro. E este é o momento de assumirmos a nossa natureza. Somos liões, Somos liadas. Apesou a lidar em Portugal. Foi a marca mais vendida em 2021, e pelo no ano com o que vivo, ele é o que a melhor marca automóvel na escolha do consumidor. Por clíderas, é natureza dos liões.'"
      ]
     },
     "execution_count": 62,
     "metadata": {},
     "output_type": "execute_result"
    }
   ],
   "source": [
    "df.loc[0,'audtrans_tiny']"
   ]
  },
  {
   "cell_type": "code",
   "execution_count": 63,
   "id": "db72b85b",
   "metadata": {},
   "outputs": [
    {
     "data": {
      "text/plain": [
       "' O momento é de quem o agarra com o carro. E este é o momento de assumirmos a nossa natureza. Somos liões, somos líderes. Aparjou-a líder em Portugal. Foi a marca mais vendida em 2021 e pelo 9º ano consecutivo, eleita a melhor marca automóvel na escolha do consumidor. Porque liderar é a natureza dos liões.'"
      ]
     },
     "execution_count": 63,
     "metadata": {},
     "output_type": "execute_result"
    }
   ],
   "source": [
    "df.loc[0,'audtrans_small']"
   ]
  },
  {
   "cell_type": "code",
   "execution_count": 64,
   "id": "7a9a63ff",
   "metadata": {},
   "outputs": [
    {
     "data": {
      "text/plain": [
       "' O momento é de quem o agarra, com um carro. E este é o momento de assumirmos a nossa natureza. Somos leões. Somos líderes. A Pajou é líder em Portugal. Foi a marca mais vendida em 2021 e pelo 9º ano consecutivo eleita a melhor marca automóvel na escolha do consumidor. Porque liderar é a natureza dos leões.'"
      ]
     },
     "execution_count": 64,
     "metadata": {},
     "output_type": "execute_result"
    }
   ],
   "source": [
    "df.loc[0,'audtrans_medium']"
   ]
  },
  {
   "cell_type": "code",
   "execution_count": null,
   "id": "36700661",
   "metadata": {},
   "outputs": [],
   "source": []
  }
 ],
 "metadata": {
  "kernelspec": {
   "display_name": "tv_scan",
   "language": "python",
   "name": "python3"
  },
  "language_info": {
   "codemirror_mode": {
    "name": "ipython",
    "version": 3
   },
   "file_extension": ".py",
   "mimetype": "text/x-python",
   "name": "python",
   "nbconvert_exporter": "python",
   "pygments_lexer": "ipython3",
   "version": "3.10.8"
  },
  "vscode": {
   "interpreter": {
    "hash": "0b2c4ef03dc575ac701c496e59b28123b2af8386c2e60fe9eef0f5870ffd42b9"
   }
  }
 },
 "nbformat": 4,
 "nbformat_minor": 5
}
