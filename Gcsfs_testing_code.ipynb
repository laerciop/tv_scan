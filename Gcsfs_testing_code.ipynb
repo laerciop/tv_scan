{
 "cells": [
  {
   "cell_type": "code",
   "execution_count": 1,
   "id": "c7dbcd8b",
   "metadata": {},
   "outputs": [],
   "source": [
    "import urllib.request\n",
    "from gcsfs import GCSFileSystem\n",
    "import tempfile"
   ]
  },
  {
   "cell_type": "code",
   "execution_count": null,
   "id": "02e7f6fc",
   "metadata": {},
   "outputs": [],
   "source": [
    "class FileHandler():\n",
    "    def __init__(self, gc_project):\n",
    "        self.file_system = GCSFileSystem(project=gc_project)\n",
    "\n",
    "    def spot_download_helper(self, url, dest_name):\n",
    "        \"\"\"Function to get file and save it to GCP.\"\"\"\n",
    "        dest_file = 'tv_spots_store/'+dest_name\n",
    "        self.file_system.touch(dest_file)\n",
    "        with self.file_system.open(dest_file, mode='wb') as file:\n",
    "            try:\n",
    "                urllib.request.urlretrieve(url, dest_file)\n",
    "            except Exception as e:\n",
    "                return str(e)\n",
    "            file_url = file.info()\n",
    "        return (dest_file, file_url)"
   ]
  },
  {
   "cell_type": "code",
   "execution_count": 2,
   "id": "a23c7d2d",
   "metadata": {},
   "outputs": [],
   "source": [
    "file_system = GCSFileSystem(project='publicispt-datastage')"
   ]
  },
  {
   "cell_type": "code",
   "execution_count": 3,
   "id": "cee8d4e1",
   "metadata": {},
   "outputs": [],
   "source": [
    "dest_file = 'tv_spots_store/file_test.wmv'\n",
    "file_system.touch(dest_file)"
   ]
  },
  {
   "cell_type": "code",
   "execution_count": 5,
   "id": "3257657a",
   "metadata": {},
   "outputs": [],
   "source": [
    "with file_system.open(dest_file, mode='wb') as file:\n",
    "    url = 'http://e-sol.mediamonitor.pt/SOLFILES/TELEVISAO/20220101/412561.wmv'\n",
    "    with tempfile.NamedTemporaryFile() as bin_file:\n",
    "        urllib.request.urlretrieve(url, bin_file.name)\n",
    "        data = bin_file.read()\n",
    "        file.write(data)"
   ]
  },
  {
   "cell_type": "code",
   "execution_count": null,
   "id": "9a4b796a",
   "metadata": {},
   "outputs": [],
   "source": []
  },
  {
   "cell_type": "code",
   "execution_count": null,
   "id": "8b915a1d",
   "metadata": {},
   "outputs": [],
   "source": []
  },
  {
   "cell_type": "code",
   "execution_count": null,
   "id": "5ead0549",
   "metadata": {},
   "outputs": [],
   "source": []
  },
  {
   "cell_type": "code",
   "execution_count": null,
   "id": "dc0e4a4f",
   "metadata": {},
   "outputs": [],
   "source": []
  },
  {
   "cell_type": "code",
   "execution_count": null,
   "id": "26b347ef",
   "metadata": {},
   "outputs": [],
   "source": [
    "handler = FileHandler('publicispt-datastage')"
   ]
  },
  {
   "cell_type": "code",
   "execution_count": null,
   "id": "196722ac",
   "metadata": {},
   "outputs": [],
   "source": [
    "url = 'http://e-sol.mediamonitor.pt/SOLFILES/TELEVISAO/20220101/412561.wmv'\n",
    "dest_name = 'file_test.wmv'\n",
    "\n",
    "output = handler.spot_download_helper(url, dest_name)"
   ]
  },
  {
   "cell_type": "code",
   "execution_count": null,
   "id": "c7f79253",
   "metadata": {},
   "outputs": [],
   "source": [
    "output"
   ]
  },
  {
   "cell_type": "code",
   "execution_count": null,
   "id": "6e6edbc4",
   "metadata": {},
   "outputs": [],
   "source": []
  }
 ],
 "metadata": {
  "kernelspec": {
   "display_name": "tv_scan",
   "language": "python",
   "name": "python3"
  },
  "language_info": {
   "codemirror_mode": {
    "name": "ipython",
    "version": 3
   },
   "file_extension": ".py",
   "mimetype": "text/x-python",
   "name": "python",
   "nbconvert_exporter": "python",
   "pygments_lexer": "ipython3",
   "version": "3.10.8"
  },
  "vscode": {
   "interpreter": {
    "hash": "0b2c4ef03dc575ac701c496e59b28123b2af8386c2e60fe9eef0f5870ffd42b9"
   }
  }
 },
 "nbformat": 4,
 "nbformat_minor": 5
}
