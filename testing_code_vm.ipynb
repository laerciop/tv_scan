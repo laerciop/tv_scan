{
 "cells": [
  {
   "cell_type": "code",
   "execution_count": 5,
   "id": "02e7f6fc",
   "metadata": {},
   "outputs": [
    {
     "ename": "ImportError",
     "evalue": "cannot import name 'GCSFile' from 'gcsfs' (/app/miniconda/envs/tv_scan/lib/python3.10/site-packages/gcsfs/__init__.py)",
     "output_type": "error",
     "traceback": [
      "\u001b[0;31m---------------------------------------------------------------------------\u001b[0m",
      "\u001b[0;31mImportError\u001b[0m                               Traceback (most recent call last)",
      "Cell \u001b[0;32mIn[5], line 1\u001b[0m\n\u001b[0;32m----> 1\u001b[0m \u001b[39mfrom\u001b[39;00m \u001b[39mgcsfs\u001b[39;00m \u001b[39mimport\u001b[39;00m GCSFileSystem, GCSFile\n\u001b[1;32m      2\u001b[0m \u001b[39mimport\u001b[39;00m \u001b[39mpandas\u001b[39;00m \u001b[39mas\u001b[39;00m \u001b[39mpd\u001b[39;00m\n",
      "\u001b[0;31mImportError\u001b[0m: cannot import name 'GCSFile' from 'gcsfs' (/app/miniconda/envs/tv_scan/lib/python3.10/site-packages/gcsfs/__init__.py)"
     ]
    }
   ],
   "source": [
    "from gcsfs import GCSFileSystem, GCSFile\n",
    "import pandas as pd"
   ]
  },
  {
   "cell_type": "code",
   "execution_count": 2,
   "id": "6dcdc5c3",
   "metadata": {},
   "outputs": [],
   "source": [
    "fs = GCSFileSystem(project='publicispt-datastage')"
   ]
  },
  {
   "cell_type": "code",
   "execution_count": 3,
   "id": "f1b12cfa",
   "metadata": {},
   "outputs": [],
   "source": [
    "with fs.open('tv_spots_store/sample_file.csv') as file:\n",
    "    df = pd.read_csv(file)"
   ]
  },
  {
   "cell_type": "code",
   "execution_count": 7,
   "id": "d4c9e7cc",
   "metadata": {},
   "outputs": [],
   "source": [
    "df = df['Date']"
   ]
  },
  {
   "cell_type": "code",
   "execution_count": 6,
   "id": "0af3c383",
   "metadata": {},
   "outputs": [],
   "source": [
    "fs.touch('tv_spots_store/new_file.csv')"
   ]
  },
  {
   "cell_type": "code",
   "execution_count": 9,
   "id": "ad758629",
   "metadata": {},
   "outputs": [],
   "source": [
    "with fs.open('tv_spots_store/new_file.csv', mode='wb') as file:\n",
    "    df.to_csv(file)"
   ]
  },
  {
   "cell_type": "code",
   "execution_count": null,
   "id": "26b347ef",
   "metadata": {},
   "outputs": [],
   "source": []
  },
  {
   "cell_type": "code",
   "execution_count": null,
   "id": "196722ac",
   "metadata": {},
   "outputs": [],
   "source": []
  },
  {
   "cell_type": "code",
   "execution_count": null,
   "id": "c7f79253",
   "metadata": {},
   "outputs": [],
   "source": []
  },
  {
   "cell_type": "code",
   "execution_count": null,
   "id": "381b0ea5",
   "metadata": {},
   "outputs": [],
   "source": [
    "tv_col_names = ['Index', 'Descricao', 'Data', 'Ano', 'Mes', 'Semana', 'Marca',\n",
    "                'SubMarca', 'Anunciante', 'Sector', 'Categoria', 'Classe',\n",
    "                'SubClasse', 'Suporte', 'Sub_Media', 'Tipo', 'SubTipo',\n",
    "                'Posicao1', 'Posicao2', 'Posicao3', 'Posicao4', 'Duracao',\n",
    "                'Periodo_Horario', 'Investimento', 'Ins']"
   ]
  },
  {
   "cell_type": "code",
   "execution_count": null,
   "id": "9a17e583",
   "metadata": {},
   "outputs": [],
   "source": [
    "tv_dtypes = {'Index':'int64', 'Descricao': 'str', 'Data': 'datetime64',\n",
    "             'Ano': 'int64', 'Mes': 'int64', 'Semana': 'int64',\n",
    "             'Marca': 'str', 'SubMarca': 'str', 'Anunciante': 'str',\n",
    "             'Sector': 'str', 'Categoria': 'str', 'Classe': 'str',\n",
    "             'SubClasse': 'str', 'Suporte': 'str', 'Sub_Media': 'str',\n",
    "             'Tipo': 'str', 'SubTipo': 'str', 'Posicao1': 'str',\n",
    "             'Posicao2': 'str', 'Posicao3': 'str','Posicao4': 'str',\n",
    "             'Duracao': 'int64', 'Periodo_Horario': 'str', 'Investimento': 'float64',\n",
    "             'Ins': 'int64'}"
   ]
  },
  {
   "cell_type": "code",
   "execution_count": null,
   "id": "e1c3185c",
   "metadata": {},
   "outputs": [],
   "source": [
    "a_list = list()"
   ]
  },
  {
   "cell_type": "code",
   "execution_count": null,
   "id": "d6b33840",
   "metadata": {},
   "outputs": [],
   "source": [
    "tv_col_names == a_list"
   ]
  },
  {
   "cell_type": "code",
   "execution_count": null,
   "id": "6e6edbc4",
   "metadata": {},
   "outputs": [],
   "source": []
  }
 ],
 "metadata": {
  "kernelspec": {
   "display_name": "tv_scan",
   "language": "python",
   "name": "python3"
  },
  "language_info": {
   "codemirror_mode": {
    "name": "ipython",
    "version": 3
   },
   "file_extension": ".py",
   "mimetype": "text/x-python",
   "name": "python",
   "nbconvert_exporter": "python",
   "pygments_lexer": "ipython3",
   "version": "3.10.8"
  },
  "vscode": {
   "interpreter": {
    "hash": "0b2c4ef03dc575ac701c496e59b28123b2af8386c2e60fe9eef0f5870ffd42b9"
   }
  }
 },
 "nbformat": 4,
 "nbformat_minor": 5
}
