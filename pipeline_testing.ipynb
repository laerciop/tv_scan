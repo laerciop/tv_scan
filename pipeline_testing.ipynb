{
 "cells": [
  {
   "cell_type": "code",
   "execution_count": 1,
   "id": "08fd1aba",
   "metadata": {},
   "outputs": [],
   "source": [
    "from datetime import datetime\n",
    "\n",
    "from pymongo import MongoClient, InsertOne, UpdateOne\n",
    "import mlflow\n",
    "from omegaconf import OmegaConf\n",
    "\n",
    "\n",
    "\n",
    "import urllib.request\n",
    "import tempfile\n",
    "from gcsfs import GCSFileSystem\n",
    "\n"
   ]
  },
  {
   "cell_type": "code",
   "execution_count": 9,
   "id": "1389a52a",
   "metadata": {},
   "outputs": [],
   "source": [
    "\n",
    "def mongo_client(config_file_path):\n",
    "    \"\"\"Funcion to turn mongo client ON\"\"\"\n",
    "    config = OmegaConf.load(config_file_path)\n",
    "    server_ip = config.main.server_ip\n",
    "    port = config.main.port\n",
    "    if config.main.login:\n",
    "        user = config.main.user\n",
    "        passwd = config.main.passwd\n",
    "        client = MongoClient(f'mongodb://{server_ip}:{port}',\n",
    "                            username=user,\n",
    "                            password=passwd)\n",
    "    else:\n",
    "        client = MongoClient(f'mongodb://{server_ip}:{port}')\n",
    "\n",
    "    return client\n",
    "\n",
    "\n",
    "\n",
    "class FileHandler():\n",
    "    \"\"\"Class to get file and save it to GCP.\"\"\"\n",
    "    def __init__(self, gc_project):\n",
    "        self.file_system = GCSFileSystem(project=gc_project)\n",
    "\n",
    "    def spot_download_helper(self, url, dest_name):\n",
    "        \"\"\"Function to get file and save it to GCP.\"\"\"\n",
    "        dest_file = 'tv_spots_store/'+dest_name\n",
    "        print(f\"FILENAME:  {dest_file}\")\n",
    "        self.file_system.touch(dest_file)\n",
    "        with self.file_system.open(dest_file, mode='wb') as file:\n",
    "            with tempfile.NamedTemporaryFile() as bin_file:\n",
    "                try:\n",
    "                    urllib.request.urlretrieve(url, bin_file.name)\n",
    "                    data = bin_file.read()\n",
    "                    file.write(data)\n",
    "                except Exception as e:\n",
    "                    return str(e)\n",
    "            file_url = file.info()\n",
    "        return (dest_file, file_url)"
   ]
  },
  {
   "cell_type": "code",
   "execution_count": 3,
   "id": "463fd389",
   "metadata": {},
   "outputs": [],
   "source": [
    "# START SERVER IF NEEDED - docker run --name testing-mongo -p 27017:27017 mongo:latest\n",
    "server = mongo_client('conf/mongo-config.yaml')\n",
    "db = server.TV_scan\n"
   ]
  },
  {
   "cell_type": "code",
   "execution_count": null,
   "id": "2300cc4f",
   "metadata": {},
   "outputs": [],
   "source": [
    "#Is it necessary to update?\n",
    "\n",
    "\n",
    "mlflow.run('components/spotreg_update')\n"
   ]
  },
  {
   "cell_type": "code",
   "execution_count": null,
   "id": "c669754d",
   "metadata": {},
   "outputs": [],
   "source": [
    "#Bellow the name of the collections\n",
    "#db['spots_inventory']\n",
    "#db['Proc_Jobs']"
   ]
  },
  {
   "cell_type": "code",
   "execution_count": null,
   "id": "11168868",
   "metadata": {},
   "outputs": [],
   "source": [
    "# https://www.programmingfunda.com/filter-records-in-mongodb-using-python/\n",
    "# simple query - {'field1':'value', 'field2':'value'}\n",
    "# number comparison - {\"field\": {\"$gt\": 25}} OR {\"field\": {\"$lt\": 25}} OR {\"field\": {\"$lt\": 25, \"$gt\": 25}}\n",
    "# in list of values {'field':{$in:['item1', 'item2']}}\n",
    "# Regex - {\"field\": {\"$regex\": \"^M\"}}\n",
    "################\n",
    "# MORE OPERATORS - https://www.mongodb.com/docs/manual/reference/operator/query/\n",
    "################\n",
    "filtering = {'BrandDesc':'PEUGEOT'}"
   ]
  },
  {
   "cell_type": "code",
   "execution_count": null,
   "id": "38c823f6",
   "metadata": {},
   "outputs": [],
   "source": [
    "cursor = db['spots_inventory'].find(filtering)"
   ]
  },
  {
   "cell_type": "code",
   "execution_count": null,
   "id": "2928cdcb",
   "metadata": {},
   "outputs": [],
   "source": [
    "#INSPECT CURSOR\n",
    "docs_toinspect = []\n",
    "for doc in cursor[1:5]:\n",
    "    # Building parameters\n",
    "    docs_toinspect.append(doc)\n",
    "    "
   ]
  },
  {
   "cell_type": "code",
   "execution_count": null,
   "id": "e05d6698",
   "metadata": {},
   "outputs": [],
   "source": [
    "docs_toinspect"
   ]
  },
  {
   "cell_type": "code",
   "execution_count": null,
   "id": "e9170b08",
   "metadata": {},
   "outputs": [],
   "source": [
    "docs_toproc = []\n",
    "for doc in cursor:\n",
    "    # Building parameters\n",
    "    doc_id = doc['_id']\n",
    "    docs_toproc.append(doc_id)\n",
    "    "
   ]
  },
  {
   "cell_type": "code",
   "execution_count": 4,
   "id": "f6575a0c",
   "metadata": {},
   "outputs": [],
   "source": [
    "job_reference = 'test_peugeot'\n",
    "now = datetime.now().strftime(\"%Y-%m-%d %H:%M:%S\")\n",
    "\n",
    "\n",
    "\n",
    "db['Proc_Jobs'].insert_one({'doc_list': docs_toproc, 'j_ref':job_reference, 'status':'Pending Processing.', 'ins_timestamp':now})"
   ]
  },
  {
   "cell_type": "code",
   "execution_count": 5,
   "id": "1d1f6689",
   "metadata": {},
   "outputs": [],
   "source": [
    "#INSPECT\n",
    "\n",
    "job = db['Proc_Jobs'].find_one({'j_ref':job_reference})\n",
    "\n",
    "filter_verif = db['spots_inventory'].find({'_id':{'$in':job['doc_list']}})"
   ]
  },
  {
   "cell_type": "code",
   "execution_count": 6,
   "id": "3a865162",
   "metadata": {},
   "outputs": [],
   "source": [
    "proc_toinspect = []\n",
    "for doc in filter_verif[1:5]:\n",
    "    # Building parameters\n",
    "    proc_toinspect.append(doc)\n",
    "    "
   ]
  },
  {
   "cell_type": "code",
   "execution_count": 7,
   "id": "4d6762f3",
   "metadata": {},
   "outputs": [
    {
     "data": {
      "text/plain": [
       "[{'_id': ObjectId('63da36736ab4946366e9d21f'),\n",
       "  'SpotCode': 417291,\n",
       "  'SpotDesc': 'LIDER DE VENDAS EM PT 2021.MELHOR MARCA AUTOMOVEL 9\\\\ANO',\n",
       "  'VehicleDesc': 'SIC',\n",
       "  'BrandDesc': 'PEUGEOT',\n",
       "  'SubBrandDesc': nan,\n",
       "  'SectorDesc': 'INDUSTRIA AUTOMOVEL',\n",
       "  'CategoryDesc': 'VEICULOS A MOTOR',\n",
       "  'ClassDesc': 'AUTOMOVEIS',\n",
       "  'SubClassDesc': 'OUTROS OU DIVERSOS',\n",
       "  'AdvertiserDesc': 'PEUGEOT PORTUGAL AUTOMOVEIS SA',\n",
       "  'MediaFile': 417291,\n",
       "  'MediaFileOldUrl': 'http://e-sol.mediamonitor.pt/SOLFILES/TELEVISAO/20220103/417291.wmv'},\n",
       " {'_id': ObjectId('63da36736ab4946366e9d220'),\n",
       "  'SpotCode': 417315,\n",
       "  'SpotDesc': 'LIDER DE VENDAS PT 2021.MELHOR MARCA AUTO 9\\\\ANO-SH SICNOT',\n",
       "  'VehicleDesc': 'SIC Noticias',\n",
       "  'BrandDesc': 'PEUGEOT',\n",
       "  'SubBrandDesc': nan,\n",
       "  'SectorDesc': 'INDUSTRIA AUTOMOVEL',\n",
       "  'CategoryDesc': 'VEICULOS A MOTOR',\n",
       "  'ClassDesc': 'AUTOMOVEIS',\n",
       "  'SubClassDesc': 'OUTROS OU DIVERSOS',\n",
       "  'AdvertiserDesc': 'PEUGEOT PORTUGAL AUTOMOVEIS SA',\n",
       "  'MediaFile': 417315,\n",
       "  'MediaFileOldUrl': 'http://e-sol.mediamonitor.pt/SOLFILES/TELEVISAO/20220103/417315.wmv'},\n",
       " {'_id': ObjectId('63da36736ab4946366e9d3d2'),\n",
       "  'SpotCode': 417741,\n",
       "  'SpotDesc': 'NOVO.DESIGN UNICO...SENSACOES UNICAS-SH SICNOT',\n",
       "  'VehicleDesc': 'SIC Noticias',\n",
       "  'BrandDesc': 'PEUGEOT',\n",
       "  'SubBrandDesc': '308 HIBRIDO PLUG-IN',\n",
       "  'SectorDesc': 'INDUSTRIA AUTOMOVEL',\n",
       "  'CategoryDesc': 'VEICULOS A MOTOR',\n",
       "  'ClassDesc': 'AUTOMOVEIS',\n",
       "  'SubClassDesc': 'AUTOMOVEIS DE PASSAGEIROS',\n",
       "  'AdvertiserDesc': 'PEUGEOT PORTUGAL AUTOMOVEIS SA',\n",
       "  'MediaFile': 417741,\n",
       "  'MediaFileOldUrl': 'http://e-sol.mediamonitor.pt/SOLFILES/TELEVISAO/20220117/417741.wmv'},\n",
       " {'_id': ObjectId('63da36736ab4946366e9d406'),\n",
       "  'SpotCode': 417811,\n",
       "  'SpotDesc': 'PAT.A MASCARA-E NOVO PEUGEOT 308(FINALISTA CARRO ANO22)',\n",
       "  'VehicleDesc': 'SIC',\n",
       "  'BrandDesc': 'PEUGEOT',\n",
       "  'SubBrandDesc': '308 HIBRIDO PLUG-IN',\n",
       "  'SectorDesc': 'INDUSTRIA AUTOMOVEL',\n",
       "  'CategoryDesc': 'VEICULOS A MOTOR',\n",
       "  'ClassDesc': 'AUTOMOVEIS',\n",
       "  'SubClassDesc': 'AUTOMOVEIS DE PASSAGEIROS',\n",
       "  'AdvertiserDesc': 'PEUGEOT PORTUGAL AUTOMOVEIS SA',\n",
       "  'MediaFile': 417811,\n",
       "  'MediaFileOldUrl': 'http://e-sol.mediamonitor.pt/SOLFILES/TELEVISAO/20220119/417811.wmv'}]"
      ]
     },
     "execution_count": 7,
     "metadata": {},
     "output_type": "execute_result"
    }
   ],
   "source": [
    "proc_toinspect"
   ]
  },
  {
   "cell_type": "code",
   "execution_count": 14,
   "id": "e45cb0f7",
   "metadata": {},
   "outputs": [
    {
     "name": "stderr",
     "output_type": "stream",
     "text": [
      "2023/02/01 16:41:17 INFO mlflow.projects.docker: === Building docker image get_data:b183085 ===\n",
      "2023/02/01 16:41:18 INFO mlflow.projects.utils: === Created directory /tmp/tmpcsjstdao for downloading remote URIs passed to arguments of type 'path' ===\n",
      "2023/02/01 16:41:18 INFO mlflow.projects.backend.local: === Running command 'docker run --rm -v /home/laertio/projects/dev/tv_scan/mlruns:/mlflow/tmp/mlruns -v /home/laertio/projects/dev/tv_scan/mlruns/0/9eebfc7d37164b92a006bdcccd4d69da/artifacts:/home/laertio/projects/dev/tv_scan/mlruns/0/9eebfc7d37164b92a006bdcccd4d69da/artifacts -v /home/laertio/projects/dev/tv_scan/conf:/conf -e MLFLOW_RUN_ID=9eebfc7d37164b92a006bdcccd4d69da -e MLFLOW_TRACKING_URI=file:///mlflow/tmp/mlruns -e MLFLOW_EXPERIMENT_ID=0 get_data:b183085 python run.py tv_scan_test spots_inventory /conf/mongo-config.yaml test_peugeot --wandblogin ea7d4ed782356f66850586612f115565b6a8a0c3' in run with ID '9eebfc7d37164b92a006bdcccd4d69da' === \n",
      "wandb: W&B API key is configured. Use `wandb login --relogin` to force relogin\n",
      "wandb: Appending key for api.wandb.ai to your netrc file: /root/.netrc\n",
      "wandb: Currently logged in as: digital_report (pgpt_datascience). Use `wandb login --relogin` to force relogin\n",
      "wandb: Tracking run with wandb version 0.13.9\n",
      "wandb: Run data is saved locally in /mlflow/projects/code/wandb/run-20230201_164122-45p44tta\n",
      "wandb: Run `wandb offline` to turn off syncing.\n",
      "wandb: Syncing run lunar-dragon-7\n",
      "wandb: ⭐️ View project at https://wandb.ai/pgpt_datascience/tv_scan_test\n",
      "wandb: 🚀 View run at https://wandb.ai/pgpt_datascience/tv_scan_test/runs/45p44tta\n",
      "2023-02-01 16:41:22,764 Process Started.\n",
      "2023-02-01 16:41:22,782 MongoDB info loaded.\n",
      "2023-02-01 16:41:22,783 Getting processing job list...\n",
      "2023-02-01 16:41:22,796 File gathering started.\n",
      "wandb: Waiting for W&B process to finish... (success).\n",
      "wandb: 🚀 View run lunar-dragon-7 at: https://wandb.ai/pgpt_datascience/tv_scan_test/runs/45p44tta\n",
      "wandb: Synced 5 W&B file(s), 0 media file(s), 0 artifact file(s) and 0 other file(s)\n",
      "wandb: Find logs at: ./wandb/run-20230201_164122-45p44tta/logs\n",
      "2023/02/01 16:41:48 INFO mlflow.projects: === Run (ID '9eebfc7d37164b92a006bdcccd4d69da') succeeded ===\n"
     ]
    },
    {
     "data": {
      "text/plain": [
       "<mlflow.projects.submitted_run.LocalSubmittedRun at 0x7f41600bf760>"
      ]
     },
     "execution_count": 14,
     "metadata": {},
     "output_type": "execute_result"
    }
   ],
   "source": [
    "run_parameters = {'job_reference':job_reference}\n",
    "\n",
    "\n",
    "\n",
    "mlflow.run('components/get_data', parameters=run_parameters)"
   ]
  },
  {
   "cell_type": "code",
   "execution_count": 10,
   "id": "bbdaedfb",
   "metadata": {},
   "outputs": [],
   "source": [
    "##### TESTING THE FILE SYSTEM\n",
    "\n",
    "gcs_handler = FileHandler('publicispt-datastage')"
   ]
  },
  {
   "cell_type": "code",
   "execution_count": 12,
   "id": "1b31ac12",
   "metadata": {},
   "outputs": [
    {
     "name": "stdout",
     "output_type": "stream",
     "text": [
      "http://e-sol.mediamonitor.pt/SOLFILES/TELEVISAO/20220103/417291.wmv\n",
      "FILENAME:  tv_spots_store/417291_PEUGEOT.wmv\n",
      "http://e-sol.mediamonitor.pt/SOLFILES/TELEVISAO/20220103/417315.wmv\n",
      "FILENAME:  tv_spots_store/417315_PEUGEOT.wmv\n",
      "http://e-sol.mediamonitor.pt/SOLFILES/TELEVISAO/20220117/417741.wmv\n",
      "FILENAME:  tv_spots_store/417741_PEUGEOT.wmv\n",
      "http://e-sol.mediamonitor.pt/SOLFILES/TELEVISAO/20220119/417811.wmv\n",
      "FILENAME:  tv_spots_store/417811_PEUGEOT.wmv\n"
     ]
    }
   ],
   "source": [
    "db_updates = []\n",
    "\n",
    "for doc in proc_toinspect:\n",
    "    doc_updates = {}\n",
    "    # Building parameters\n",
    "    url = doc['MediaFileOldUrl']\n",
    "    print(url)\n",
    "    spot_code = str(doc['SpotCode'])\n",
    "    brand = doc['BrandDesc'].replace(r'\\s', '_') # Replace Whitespaces\n",
    "    brand = doc['BrandDesc'].replace(r'\\W', '_') # eliminate non-word\n",
    "    file_format = doc['MediaFileOldUrl'][-4:]\n",
    "    dest_name = spot_code+\"_\"+brand+file_format\n",
    "    # Download the file if not downloaded yet\n",
    "    dest_file, file_url = gcs_handler.spot_download_helper(url,\n",
    "                                                            dest_name)\n",
    "    doc_updates['GCP_path'] = file_url\n",
    "    doc_updates['spot_store_filename'] = dest_file\n",
    "    db_updates.append(UpdateOne({'_id': doc['_id']}, {'$set': doc_updates}))"
   ]
  },
  {
   "cell_type": "code",
   "execution_count": 13,
   "id": "223acf16",
   "metadata": {},
   "outputs": [
    {
     "data": {
      "text/plain": [
       "<pymongo.results.BulkWriteResult at 0x7f415a706710>"
      ]
     },
     "execution_count": 13,
     "metadata": {},
     "output_type": "execute_result"
    }
   ],
   "source": [
    "db['spots_inventory'].bulk_write(db_updates)"
   ]
  },
  {
   "cell_type": "code",
   "execution_count": null,
   "id": "487004ea",
   "metadata": {},
   "outputs": [],
   "source": []
  }
 ],
 "metadata": {
  "kernelspec": {
   "display_name": "tv_scan",
   "language": "python",
   "name": "python3"
  },
  "language_info": {
   "codemirror_mode": {
    "name": "ipython",
    "version": 3
   },
   "file_extension": ".py",
   "mimetype": "text/x-python",
   "name": "python",
   "nbconvert_exporter": "python",
   "pygments_lexer": "ipython3",
   "version": "3.10.8 (main, Nov 24 2022, 14:13:03) [GCC 11.2.0]"
  },
  "vscode": {
   "interpreter": {
    "hash": "0b2c4ef03dc575ac701c496e59b28123b2af8386c2e60fe9eef0f5870ffd42b9"
   }
  }
 },
 "nbformat": 4,
 "nbformat_minor": 5
}
