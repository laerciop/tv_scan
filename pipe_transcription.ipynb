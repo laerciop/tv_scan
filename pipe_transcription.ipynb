{
 "cells": [
  {
   "cell_type": "code",
   "execution_count": 1,
   "id": "fecce282",
   "metadata": {},
   "outputs": [],
   "source": [
    "import tempfile\n",
    "import whisper\n",
    "from gcsfs import GCSFileSystem"
   ]
  },
  {
   "cell_type": "code",
   "execution_count": 2,
   "id": "0fe3f626",
   "metadata": {},
   "outputs": [],
   "source": [
    "#Transcribe and save in a list (to convert, for example, in a dataframe later)\n",
    "\n",
    "model = whisper.load_model(\"tiny\") #model type to transcribe (tiny, base, small, medium or large)\n",
    "\n",
    "gcs_fs = GCSFileSystem('publicispt-datastage')"
   ]
  },
  {
   "cell_type": "code",
   "execution_count": 6,
   "id": "9df60562",
   "metadata": {},
   "outputs": [
    {
     "name": "stderr",
     "output_type": "stream",
     "text": [
      "/app/miniconda/envs/tv_scan/lib/python3.10/site-packages/whisper/transcribe.py:78: UserWarning: FP16 is not supported on CPU; using FP32 instead\n",
      "  warnings.warn(\"FP16 is not supported on CPU; using FP32 instead\")\n"
     ]
    }
   ],
   "source": [
    "file = 'tv_spots_store/415321_PEUGEOT.wmv'\n",
    "\n",
    "\n",
    "with tempfile.NamedTemporaryFile(mode='w+b') as tmp:\n",
    "    gcs_fs.get(file, tmp.name)\n",
    "    result = model.transcribe(tmp.name)"
   ]
  },
  {
   "cell_type": "code",
   "execution_count": 11,
   "id": "0067b2bb-0d69-4a06-beec-90799befb301",
   "metadata": {},
   "outputs": [
    {
     "data": {
      "text/plain": [
       "dict_keys(['text', 'segments', 'language'])"
      ]
     },
     "execution_count": 11,
     "metadata": {},
     "output_type": "execute_result"
    }
   ],
   "source": [
    "result.keys()"
   ]
  },
  {
   "cell_type": "code",
   "execution_count": 21,
   "id": "f2a1982e-f4ef-45b1-b6bc-9a6189d5e5f5",
   "metadata": {},
   "outputs": [
    {
     "data": {
      "text/plain": [
       "dict_keys(['id', 'seek', 'start', 'end', 'text', 'tokens', 'temperature', 'avg_logprob', 'compression_ratio', 'no_speech_prob'])"
      ]
     },
     "execution_count": 21,
     "metadata": {},
     "output_type": "execute_result"
    }
   ],
   "source": [
    "result['segments'][0].keys()"
   ]
  },
  {
   "cell_type": "code",
   "execution_count": 28,
   "id": "dd43d0c8-8f59-4f2f-ad67-6fe59426818d",
   "metadata": {},
   "outputs": [
    {
     "data": {
      "text/plain": [
       "'pt'"
      ]
     },
     "execution_count": 28,
     "metadata": {},
     "output_type": "execute_result"
    }
   ],
   "source": [
    "result['language']"
   ]
  },
  {
   "cell_type": "code",
   "execution_count": null,
   "id": "50aa8a0a",
   "metadata": {},
   "outputs": [],
   "source": []
  }
 ],
 "metadata": {
  "kernelspec": {
   "display_name": "tv_scan",
   "language": "python",
   "name": "python3"
  },
  "language_info": {
   "codemirror_mode": {
    "name": "ipython",
    "version": 3
   },
   "file_extension": ".py",
   "mimetype": "text/x-python",
   "name": "python",
   "nbconvert_exporter": "python",
   "pygments_lexer": "ipython3",
   "version": "3.10.8"
  },
  "vscode": {
   "interpreter": {
    "hash": "0b2c4ef03dc575ac701c496e59b28123b2af8386c2e60fe9eef0f5870ffd42b9"
   }
  }
 },
 "nbformat": 4,
 "nbformat_minor": 5
}
