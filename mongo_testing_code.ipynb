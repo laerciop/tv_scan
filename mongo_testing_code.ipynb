{
 "cells": [
  {
   "cell_type": "code",
   "execution_count": 8,
   "metadata": {},
   "outputs": [],
   "source": [
    "from omegaconf import OmegaConf\n",
    "from pymongo import MongoClient\n",
    "import pandas as pd"
   ]
  },
  {
   "cell_type": "code",
   "execution_count": 9,
   "metadata": {},
   "outputs": [],
   "source": [
    "def mongo_client():\n",
    "    \"\"\"Funcion to turn mongo client ON\"\"\"\n",
    "    config = OmegaConf.load('/home/laertio/projects/dev/tv_scan/conf/mongo-config.yaml')\n",
    "    server_ip = config.main.server_ip\n",
    "    port = config.main.port\n",
    "    # user = config.main.user\n",
    "    # passwd = config.main.passwd\n",
    "    client = MongoClient(f'mongodb://{server_ip}:{port}')\n",
    "    #                     username=user,\n",
    "    #                     password=passwd\n",
    "    return client.TV_scan"
   ]
  },
  {
   "cell_type": "code",
   "execution_count": null,
   "metadata": {},
   "outputs": [],
   "source": [
    "def core_processor_helper(norm, lang_detec, token, coll_name):\n",
    "    \"\"\"Helper to run the core text processing task defined in the processing_pipe function\"\"\"\n",
    "    cursor = nlp_tank[coll_name].find()\n",
    "    updates = []\n",
    "    for doc in cursor:\n",
    "        update = {}\n",
    "        text = doc['text_raw']\n",
    "        #text normalization\n",
    "        if norm:\n",
    "            text = normalize_text(text)\n",
    "            update['text_norm_first'] = text\n",
    "            #language detection\n",
    "            if lang_detec:\n",
    "                lang = detect_lang(text)\n",
    "                update['text_lang_label'] = lang[0]\n",
    "                update['text_lang_result'] = lang[1]\n",
    "\n",
    "        #tokenization\n",
    "        if token:\n",
    "            if lang_detec: #only tokenize portuguese\n",
    "                if \"pt\" in update['text_lang_label']:\n",
    "                    tokens = text_tokenizer(text)\n",
    "                    update['token_text_norm_first'] = tokens\n",
    "                else:\n",
    "                    label = update['text_lang_label']\n",
    "                    logger.warning(\"Det. language: %s. Tokenization only for PT\", label)\n",
    "            else:\n",
    "                ld_not_proc_before = field_checker(coll_name, 'text_lang_label')\n",
    "                if ld_not_proc_before:\n",
    "                    logger.error(\"Cannot Tokenize if no Language_detection.\")\n",
    "                    return print(\"Cannot Tokenize if no Language_detection.\")\n",
    "                if \"pt\" in doc['text_lang_label']:\n",
    "                    tokens = text_tokenizer(text)\n",
    "                    update['token_text_norm_first'] = tokens\n",
    "                else:\n",
    "                    label = update['text_lang_label']\n",
    "                    logger.warning(\"Det. language: %s. Tokenization only for PT\", label)\n",
    "\n",
    "        updates.append(UpdateOne({'_id': doc['_id']}, {'$set': update}))\n",
    "\n",
    "    cursor.close()\n",
    "    return updates"
   ]
  },
  {
   "cell_type": "code",
   "execution_count": 10,
   "metadata": {},
   "outputs": [],
   "source": [
    "df = pd.read_excel('input_sample.xlsx')"
   ]
  },
  {
   "cell_type": "code",
   "execution_count": 11,
   "metadata": {},
   "outputs": [
    {
     "name": "stdout",
     "output_type": "stream",
     "text": [
      "<class 'pandas.core.frame.DataFrame'>\n",
      "RangeIndex: 14673 entries, 0 to 14672\n",
      "Data columns (total 18 columns):\n",
      " #   Column           Non-Null Count  Dtype \n",
      "---  ------           --------------  ----- \n",
      " 0   MediaDesc        14673 non-null  object\n",
      " 1   SolDate          14673 non-null  int64 \n",
      " 2   SolDateArch      14673 non-null  int64 \n",
      " 3   SolDatePub       14673 non-null  int64 \n",
      " 4   SpotCode         14673 non-null  int64 \n",
      " 5   SpotDesc         14673 non-null  object\n",
      " 6   SitCampId        14673 non-null  int64 \n",
      " 7   SitCampDesc      14673 non-null  object\n",
      " 8   VehicleDesc      14673 non-null  object\n",
      " 9   BrandDesc        14673 non-null  object\n",
      " 10  SubBrandDesc     3770 non-null   object\n",
      " 11  SectorDesc       14673 non-null  object\n",
      " 12  CategoryDesc     14523 non-null  object\n",
      " 13  ClassDesc        10218 non-null  object\n",
      " 14  SubClassDesc     5364 non-null   object\n",
      " 15  AdvertiserDesc   14673 non-null  object\n",
      " 16  MediaFile        14673 non-null  int64 \n",
      " 17  MediaFileOldUrl  14673 non-null  object\n",
      "dtypes: int64(6), object(12)\n",
      "memory usage: 2.0+ MB\n"
     ]
    }
   ],
   "source": [
    "df.info()"
   ]
  },
  {
   "cell_type": "code",
   "execution_count": 17,
   "metadata": {},
   "outputs": [
    {
     "data": {
      "text/plain": [
       "Index(['MediaDesc', 'SolDate', 'SolDateArch', 'SolDatePub', 'SpotCode',\n",
       "       'SpotDesc', 'SitCampId', 'SitCampDesc', 'VehicleDesc', 'BrandDesc',\n",
       "       'SubBrandDesc', 'SectorDesc', 'CategoryDesc', 'ClassDesc',\n",
       "       'SubClassDesc', 'AdvertiserDesc', 'MediaFile', 'MediaFileOldUrl'],\n",
       "      dtype='object')"
      ]
     },
     "execution_count": 17,
     "metadata": {},
     "output_type": "execute_result"
    }
   ],
   "source": [
    "df.columns"
   ]
  },
  {
   "cell_type": "code",
   "execution_count": 12,
   "metadata": {},
   "outputs": [],
   "source": [
    "db = mongo_client()"
   ]
  },
  {
   "cell_type": "code",
   "execution_count": 13,
   "metadata": {},
   "outputs": [],
   "source": [
    "insert = df.head().to_dict(orient='index') #records"
   ]
  },
  {
   "cell_type": "code",
   "execution_count": 14,
   "metadata": {},
   "outputs": [
    {
     "data": {
      "text/plain": [
       "<pymongo.results.InsertManyResult at 0x7fa5b0a526b0>"
      ]
     },
     "execution_count": 14,
     "metadata": {},
     "output_type": "execute_result"
    }
   ],
   "source": [
    "insert = list(insert.values())\n",
    "db['test_document'].insert_many(insert)"
   ]
  },
  {
   "cell_type": "code",
   "execution_count": 15,
   "metadata": {},
   "outputs": [],
   "source": [
    "cursor = db['test_document'].find()"
   ]
  },
  {
   "cell_type": "code",
   "execution_count": 16,
   "metadata": {},
   "outputs": [
    {
     "name": "stdout",
     "output_type": "stream",
     "text": [
      "{'_id': ObjectId('63ceb9e012e69af577aead4c'), 'MediaDesc': 'Televisão', 'SolDate': 20220101, 'SolDateArch': 20220224, 'SolDatePub': 20220101, 'SpotCode': 412561, 'SpotDesc': 'SABADO E DOMINGO 11/15H TEATRO POLITEAMA.RTP', 'SitCampId': 2, 'SitCampDesc': 'Nova Campanha', 'VehicleDesc': 'RTP1', 'BrandDesc': 'A PEQUENA SEREIA (MUSICAL)', 'SubBrandDesc': nan, 'SectorDesc': 'ARTIGOS E SERVICOS RECREATIVOS E CULTURAIS', 'CategoryDesc': 'ESPECTACULOS', 'ClassDesc': 'TEATROS', 'SubClassDesc': nan, 'AdvertiserDesc': 'BOCA DE CENA-PROD.ARTISTICAS LDA', 'MediaFile': 412561, 'MediaFileOldUrl': 'http://e-sol.mediamonitor.pt/SOLFILES/TELEVISAO/20220101/412561.wmv'}\n",
      "{'_id': ObjectId('63ceb9e012e69af577aead4d'), 'MediaDesc': 'Televisão', 'SolDate': 20220101, 'SolDateArch': 20220224, 'SolDatePub': 20220101, 'SpotCode': 412475, 'SpotDesc': 'SABADO E DOMINGO 11/15H TEATRO POLITEAMA', 'SitCampId': 2, 'SitCampDesc': 'Nova Campanha', 'VehicleDesc': 'Panda', 'BrandDesc': 'A PEQUENA SEREIA (MUSICAL)', 'SubBrandDesc': nan, 'SectorDesc': 'ARTIGOS E SERVICOS RECREATIVOS E CULTURAIS', 'CategoryDesc': 'ESPECTACULOS', 'ClassDesc': 'TEATROS', 'SubClassDesc': nan, 'AdvertiserDesc': 'BOCA DE CENA-PROD.ARTISTICAS LDA', 'MediaFile': 412475, 'MediaFileOldUrl': 'http://e-sol.mediamonitor.pt/SOLFILES/TELEVISAO/20220101/412475.wmv'}\n",
      "{'_id': ObjectId('63ceb9e012e69af577aead4e'), 'MediaDesc': 'Televisão', 'SolDate': 20220101, 'SolDateArch': 20220224, 'SolDatePub': 20220101, 'SpotCode': 39894801, 'SpotDesc': 'APRESENTAMOS ORAL B IO A REVOLUCIONARIA TECNOLOGIA...#1', 'SitCampId': 2, 'SitCampDesc': 'Nova Campanha', 'VehicleDesc': 'SIC Noticias', 'BrandDesc': 'ORAL-B', 'SubBrandDesc': 'IO', 'SectorDesc': 'HIGIENE PESSOAL', 'CategoryDesc': 'HIGIENE ORAL', 'ClassDesc': 'ESCOVAS DE DENTES', 'SubClassDesc': 'ELECTRICAS', 'AdvertiserDesc': 'PROCTER & GAMBLE', 'MediaFile': 39894801, 'MediaFileOldUrl': 'http://e-sol.mediamonitor.pt/SOLFILES/TELEVISAO/20220101/398948.wmv'}\n",
      "{'_id': ObjectId('63ceb9e012e69af577aead4f'), 'MediaDesc': 'Televisão', 'SolDate': 20220101, 'SolDateArch': 20220224, 'SolDatePub': 20220101, 'SpotCode': 411731, 'SpotDesc': 'QUI A SAB/DOM.RTP', 'SitCampId': 2, 'SitCampDesc': 'Nova Campanha', 'VehicleDesc': 'RTP1', 'BrandDesc': 'ESPERO POR TI NO POLITEAMA', 'SubBrandDesc': nan, 'SectorDesc': 'ARTIGOS E SERVICOS RECREATIVOS E CULTURAIS', 'CategoryDesc': 'ESPECTACULOS', 'ClassDesc': 'TEATROS', 'SubClassDesc': nan, 'AdvertiserDesc': 'BOCA DE CENA-PROD.ARTISTICAS LDA', 'MediaFile': 411731, 'MediaFileOldUrl': 'http://e-sol.mediamonitor.pt/SOLFILES/TELEVISAO/20220101/411731.wmv'}\n",
      "{'_id': ObjectId('63ceb9e012e69af577aead50'), 'MediaDesc': 'Televisão', 'SolDate': 20220101, 'SolDateArch': 20220224, 'SolDatePub': 20220101, 'SpotCode': 414824, 'SpotDesc': 'PAT.MASTERCHEF-A VARIEDADE QUALIDADE E FRESCURA...', 'SitCampId': 2, 'SitCampDesc': 'Nova Campanha', 'VehicleDesc': 'RTP1', 'BrandDesc': 'SUPERMERCADO EL CORTE INGLES', 'SubBrandDesc': nan, 'SectorDesc': 'COMERCIO', 'CategoryDesc': 'RETALHO', 'ClassDesc': 'SUPER E HIPER MERCADOS', 'SubClassDesc': 'GENERALISTAS', 'AdvertiserDesc': 'EL CORTE INGLES-GRANDES ARMAZENS SA', 'MediaFile': 414824, 'MediaFileOldUrl': 'http://e-sol.mediamonitor.pt/SOLFILES/TELEVISAO/20220101/414824.wmv'}\n"
     ]
    }
   ],
   "source": [
    "for item in cursor:\n",
    "    print(item)"
   ]
  },
  {
   "cell_type": "code",
   "execution_count": null,
   "metadata": {},
   "outputs": [],
   "source": []
  }
 ],
 "metadata": {
  "kernelspec": {
   "display_name": "tv_scan",
   "language": "python",
   "name": "python3"
  },
  "language_info": {
   "codemirror_mode": {
    "name": "ipython",
    "version": 3
   },
   "file_extension": ".py",
   "mimetype": "text/x-python",
   "name": "python",
   "nbconvert_exporter": "python",
   "pygments_lexer": "ipython3",
   "version": "3.10.8"
  },
  "orig_nbformat": 4,
  "vscode": {
   "interpreter": {
    "hash": "0b2c4ef03dc575ac701c496e59b28123b2af8386c2e60fe9eef0f5870ffd42b9"
   }
  }
 },
 "nbformat": 4,
 "nbformat_minor": 2
}
